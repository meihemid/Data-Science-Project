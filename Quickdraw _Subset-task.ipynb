{
 "cells": [
  {
   "cell_type": "markdown",
   "metadata": {},
   "source": [
    "</style>\n",
    "<h1  style=\"text-align:center;font-size:60px\">  Machine Learning Projects\n",
    "    <h2 style=\"text-align:center\">Quickdraw Subset : Quickdraw dataset 24</h2>\n",
    "    <br><br>\n",
    "    <h2 style=\"text-align:left;font-size:20px\">\n",
    "        <u> Date:</u> April 2021 <br><br>\n",
    "        <u> Groupe 24:</u><br><br>\n",
    "          <li>Anas Krichel ( anas.krichel@telecom-paris.fr )</li>\n",
    "          <li>Maha Meihemid ( meihemid.meihemid@telecom-paris.fr )</li>\n",
    "          <li>Louis Dorge ( ldorge@telecom-paris.fr )</li><br> \n",
    "     </h2>\n",
    "</h1>"
   ]
  },
  {
   "cell_type": "markdown",
   "metadata": {},
   "source": [
    "# I.Data Set : Quickdraw dataset 24¶"
   ]
  },
  {
   "cell_type": "markdown",
   "metadata": {},
   "source": [
    "## Data Set Informartion :"
   ]
  },
  {
   "cell_type": "markdown",
   "metadata": {},
   "source": [
    "we have data set of hand drawing images of two types 'ant' and 'grapes'. The task is to build a classifier that is able to recognize if an unseen image is 'ant' or 'grapes'"
   ]
  },
  {
   "cell_type": "code",
   "execution_count": 1,
   "metadata": {
    "id": "ASlB4yYX05GH"
   },
   "outputs": [],
   "source": [
    "import tensorflow as tf\n",
    "import keras\n",
    "import numpy as np\n",
    "import matplotlib.pyplot as plt\n",
    "from keras.models import Sequential\n",
    "from keras.layers import Dense, Activation, Flatten, Dropout\n",
    "from keras import optimizers"
   ]
  },
  {
   "cell_type": "code",
   "execution_count": 2,
   "metadata": {
    "id": "HF-G7lufI8kc"
   },
   "outputs": [],
   "source": [
    "#############Loading the Data#######################\n",
    "####################################################\n",
    "\n",
    "a = np.load('G_24_grapes.npy')\n",
    "b = np.load('G_24_ant.npy')\n",
    "\n",
    "ya = np.ones(1000)\n",
    "yb = np.zeros(1000)\n",
    "\n",
    "X_train = np.concatenate((a, b))\n",
    "y_train = np.concatenate((ya, yb))\n",
    "\n",
    "\n",
    "X_test = np.load('test_images.npy')\n",
    "y_test = np.load('test_labels.npy')"
   ]
  },
  {
   "cell_type": "code",
   "execution_count": 3,
   "metadata": {
    "colab": {
     "base_uri": "https://localhost:8080/"
    },
    "id": "GyZYW9OpeoDh",
    "outputId": "498c5e7e-5b52-46c8-9329-f3da3881ca9e"
   },
   "outputs": [
    {
     "data": {
      "text/plain": [
       "(1000, 784)"
      ]
     },
     "execution_count": 3,
     "metadata": {},
     "output_type": "execute_result"
    }
   ],
   "source": [
    "X_test.shape"
   ]
  },
  {
   "cell_type": "code",
   "execution_count": 4,
   "metadata": {
    "colab": {
     "base_uri": "https://localhost:8080/"
    },
    "id": "eBLiprEh0DPE",
    "outputId": "7f930031-2183-47ba-92c4-1b7e2d930bf9"
   },
   "outputs": [
    {
     "name": "stdout",
     "output_type": "stream",
     "text": [
      "Model: \"sequential\"\n",
      "_________________________________________________________________\n",
      "Layer (type)                 Output Shape              Param #   \n",
      "=================================================================\n",
      "dense (Dense)                (None, 1000)              785000    \n",
      "_________________________________________________________________\n",
      "dense_1 (Dense)              (None, 1000)              1001000   \n",
      "_________________________________________________________________\n",
      "dense_2 (Dense)              (None, 1000)              1001000   \n",
      "_________________________________________________________________\n",
      "dense_3 (Dense)              (None, 1000)              1001000   \n",
      "_________________________________________________________________\n",
      "dense_4 (Dense)              (None, 1)                 1001      \n",
      "=================================================================\n",
      "Total params: 3,789,001\n",
      "Trainable params: 3,789,001\n",
      "Non-trainable params: 0\n",
      "_________________________________________________________________\n"
     ]
    }
   ],
   "source": [
    "##############Neural network model##########################\n",
    "############################################################\n",
    "\n",
    "input_shape = X_train[1].shape\n",
    "output_shape = 1\n",
    "\n",
    "model = Sequential()\n",
    "# 1000 neurone in the first hiden layer\n",
    "model.add(Dense(1000, input_shape=input_shape, activation='sigmoid'))\n",
    "\n",
    "model.add(Dense(1000, activation='sigmoid'))\n",
    "\n",
    "model.add(Dense(1000, activation='sigmoid'))\n",
    "\n",
    "model.add(Dense(1000, activation='sigmoid'))\n",
    "\n",
    "model.add(Dense(output_shape, activation='sigmoid'))\n",
    "\n",
    "\n",
    "model.compile(optimizer='adam', loss='binary_crossentropy',\n",
    "              metrics=['accuracy'])  # Learning the parameters\n",
    "\n",
    "model.summary()"
   ]
  },
  {
   "cell_type": "code",
   "execution_count": 5,
   "metadata": {
    "colab": {
     "base_uri": "https://localhost:8080/"
    },
    "id": "SNFLNMj0nQWi",
    "outputId": "6688766e-c57c-46ee-f068-c8981e8a2fbe"
   },
   "outputs": [
    {
     "name": "stdout",
     "output_type": "stream",
     "text": [
      "Epoch 1/10\n",
      "63/63 [==============================] - 9s 117ms/step - loss: 0.7486 - accuracy: 0.6336 - val_loss: 0.4509 - val_accuracy: 0.8000\n",
      "Epoch 2/10\n",
      "63/63 [==============================] - 3s 52ms/step - loss: 0.4416 - accuracy: 0.8133 - val_loss: 0.4502 - val_accuracy: 0.8120\n",
      "Epoch 3/10\n",
      "63/63 [==============================] - 3s 52ms/step - loss: 0.4476 - accuracy: 0.8265 - val_loss: 0.4518 - val_accuracy: 0.8120\n",
      "Epoch 4/10\n",
      "63/63 [==============================] - 4s 57ms/step - loss: 0.4425 - accuracy: 0.8232 - val_loss: 0.4377 - val_accuracy: 0.8110\n",
      "Epoch 5/10\n",
      "63/63 [==============================] - 4s 58ms/step - loss: 0.4374 - accuracy: 0.8325 - val_loss: 0.4386 - val_accuracy: 0.8070\n",
      "Epoch 6/10\n",
      "63/63 [==============================] - 3s 55ms/step - loss: 0.4114 - accuracy: 0.8359 - val_loss: 0.4420 - val_accuracy: 0.8140\n",
      "Epoch 7/10\n",
      "63/63 [==============================] - 3s 54ms/step - loss: 0.4211 - accuracy: 0.8340 - val_loss: 0.4468 - val_accuracy: 0.8090\n",
      "Epoch 8/10\n",
      "63/63 [==============================] - 3s 55ms/step - loss: 0.4435 - accuracy: 0.8080 - val_loss: 0.4566 - val_accuracy: 0.8190\n",
      "Epoch 9/10\n",
      "63/63 [==============================] - 4s 56ms/step - loss: 0.4008 - accuracy: 0.8435 - val_loss: 0.4494 - val_accuracy: 0.8120\n",
      "Epoch 10/10\n",
      "63/63 [==============================] - 3s 55ms/step - loss: 0.4380 - accuracy: 0.8203 - val_loss: 0.4781 - val_accuracy: 0.7920\n"
     ]
    }
   ],
   "source": [
    "history = model.fit(X_train, y_train, batch_size=32, epochs=10,\n",
    "                    verbose=1, validation_data=(X_test, y_test))"
   ]
  },
  {
   "cell_type": "markdown",
   "metadata": {
    "id": "ql-fL8yzhRit"
   },
   "source": [
    "# **Some plots To visualize the loss and accuracy of the classifier**"
   ]
  },
  {
   "cell_type": "code",
   "execution_count": 6,
   "metadata": {
    "colab": {
     "base_uri": "https://localhost:8080/",
     "height": 572
    },
    "id": "Yoo3dK9lhVgd",
    "outputId": "80078f4e-e3ea-4fb6-ca5a-81d85b7d8ada"
   },
   "outputs": [
    {
     "data": {
      "image/png": "[encoded data removed]",
      "text/plain": [
       "<Figure size 432x288 with 1 Axes>"
      ]
     },
     "metadata": {
      "needs_background": "light"
     },
     "output_type": "display_data"
    },
    {
     "data": {
      "image/png": "[encoded data removed]",
      "text/plain": [
       "<Figure size 432x288 with 1 Axes>"
      ]
     },
     "metadata": {
      "needs_background": "light"
     },
     "output_type": "display_data"
    }
   ],
   "source": [
    "# We plot here the loss as function of epochs\n",
    "plt.plot(history.history[\"loss\"], 'bo--')\n",
    "plt.plot(history.history[\"val_loss\"], 'go--')\n",
    "plt.title(\"train and validation loss functions\")\n",
    "plt.xlabel('epochs')\n",
    "plt.ylabel('loss')\n",
    "plt.legend(['train', 'validation'])\n",
    "\n",
    "# END CODE HERE\n",
    "plt.show()\n",
    "###############################################################################\n",
    "###############################################################################\n",
    "\n",
    "# summarize history for accuracy\n",
    "# START CODE HERE\n",
    "# START CODE HERE\n",
    "# We plot here the accuracy as function of epochs\n",
    "\n",
    "plt.plot(history.history[\"accuracy\"], 'bo--')\n",
    "plt.plot(history.history[\"val_accuracy\"], 'go--')\n",
    "plt.title(\"train and validation loss functions\")\n",
    "plt.xlabel('epochs')\n",
    "plt.ylabel('Accuracy')\n",
    "plt.legend(['train', 'validation'])\n",
    "\n",
    "# END CODE HERE\n",
    "plt.show()"
   ]
  },
  {
   "cell_type": "markdown",
   "metadata": {
    "id": "3jjpMxdingWk"
   },
   "source": [
    "# **Some Ideas to avoid overfiting**"
   ]
  },
  {
   "cell_type": "markdown",
   "metadata": {
    "id": "Yt7W2wtenpgL"
   },
   "source": [
    "Our first model seems able to generalize what it learned on the training data to unseen data. Any way we will use the methode dropout hopfully to increase the accuracy on the test data.\n",
    "\n",
    "In fact the method use the fact that : shuting down some neurones will prevent the minimizer to find the obvious model which in some how interpolat the data wich cause overfiting."
   ]
  },
  {
   "cell_type": "code",
   "execution_count": 7,
   "metadata": {
    "colab": {
     "base_uri": "https://localhost:8080/"
    },
    "id": "9nVMaxREorpA",
    "outputId": "a84e410d-544d-4f84-b409-5fab36ccd312"
   },
   "outputs": [
    {
     "name": "stdout",
     "output_type": "stream",
     "text": [
      "Model: \"sequential_1\"\n",
      "_________________________________________________________________\n",
      "Layer (type)                 Output Shape              Param #   \n",
      "=================================================================\n",
      "dense_5 (Dense)              (None, 1000)              785000    \n",
      "_________________________________________________________________\n",
      "dropout (Dropout)            (None, 1000)              0         \n",
      "_________________________________________________________________\n",
      "dense_6 (Dense)              (None, 1000)              1001000   \n",
      "_________________________________________________________________\n",
      "dropout_1 (Dropout)          (None, 1000)              0         \n",
      "_________________________________________________________________\n",
      "dense_7 (Dense)              (None, 1000)              1001000   \n",
      "_________________________________________________________________\n",
      "dropout_2 (Dropout)          (None, 1000)              0         \n",
      "_________________________________________________________________\n",
      "dense_8 (Dense)              (None, 1000)              1001000   \n",
      "_________________________________________________________________\n",
      "dense_9 (Dense)              (None, 1)                 1001      \n",
      "=================================================================\n",
      "Total params: 3,789,001\n",
      "Trainable params: 3,789,001\n",
      "Non-trainable params: 0\n",
      "_________________________________________________________________\n"
     ]
    }
   ],
   "source": [
    "input_shape = X_train[1].shape\n",
    "output_shape = 1\n",
    "\n",
    "model2 = Sequential()\n",
    "# 300 neurone in the hiden layer\n",
    "model2.add(Dense(1000, input_shape=input_shape, activation='sigmoid'))\n",
    "model2.add(Dropout(0.5))\n",
    "\n",
    "model2.add(Dense(1000, activation='sigmoid'))\n",
    "model2.add(Dropout(0.5))\n",
    "\n",
    "model2.add(Dense(1000, activation='sigmoid'))\n",
    "model2.add(Dropout(0.5))\n",
    "\n",
    "model2.add(Dense(1000, activation='sigmoid'))\n",
    "\n",
    "\n",
    "model2.add(Dense(output_shape, activation='sigmoid'))\n",
    "\n",
    "\n",
    "model2.compile(optimizer='adam', loss='binary_crossentropy',\n",
    "               metrics=['accuracy'])\n",
    "\n",
    "model2.summary()"
   ]
  },
  {
   "cell_type": "code",
   "execution_count": 8,
   "metadata": {
    "colab": {
     "base_uri": "https://localhost:8080/"
    },
    "id": "uY32VPIWpK2N",
    "outputId": "27718bec-b7cc-448b-e5ee-0750e39e2129"
   },
   "outputs": [
    {
     "name": "stdout",
     "output_type": "stream",
     "text": [
      "Epoch 1/10\n",
      "63/63 [==============================] - 6s 78ms/step - loss: 0.7729 - accuracy: 0.5470 - val_loss: 0.4495 - val_accuracy: 0.8050\n",
      "Epoch 2/10\n",
      "63/63 [==============================] - 4s 58ms/step - loss: 0.4888 - accuracy: 0.7945 - val_loss: 0.4523 - val_accuracy: 0.8020\n",
      "Epoch 3/10\n",
      "63/63 [==============================] - 4s 59ms/step - loss: 0.5120 - accuracy: 0.7765 - val_loss: 0.4743 - val_accuracy: 0.8040\n",
      "Epoch 4/10\n",
      "63/63 [==============================] - 3s 54ms/step - loss: 0.5266 - accuracy: 0.7744 - val_loss: 0.4483 - val_accuracy: 0.7980\n",
      "Epoch 5/10\n",
      "63/63 [==============================] - 4s 57ms/step - loss: 0.4735 - accuracy: 0.7893 - val_loss: 0.4597 - val_accuracy: 0.8040\n",
      "Epoch 6/10\n",
      "63/63 [==============================] - 4s 58ms/step - loss: 0.4756 - accuracy: 0.8159 - val_loss: 0.4519 - val_accuracy: 0.7960\n",
      "Epoch 7/10\n",
      "63/63 [==============================] - 4s 58ms/step - loss: 0.4701 - accuracy: 0.8085 - val_loss: 0.5213 - val_accuracy: 0.8000\n",
      "Epoch 8/10\n",
      "63/63 [==============================] - 4s 58ms/step - loss: 0.5102 - accuracy: 0.7828 - val_loss: 0.4797 - val_accuracy: 0.7970\n",
      "Epoch 9/10\n",
      "63/63 [==============================] - 4s 64ms/step - loss: 0.4673 - accuracy: 0.8057 - val_loss: 0.4495 - val_accuracy: 0.8040\n",
      "Epoch 10/10\n",
      "63/63 [==============================] - 4s 63ms/step - loss: 0.4409 - accuracy: 0.8256 - val_loss: 0.4473 - val_accuracy: 0.8070\n"
     ]
    }
   ],
   "source": [
    "history2 = model2.fit(X_train, y_train, batch_size=32,\n",
    "                      epochs=10, verbose=1, validation_data=(X_test, y_test))"
   ]
  },
  {
   "cell_type": "code",
   "execution_count": 9,
   "metadata": {
    "id": "GuGbDLIto9La"
   },
   "outputs": [
    {
     "data": {
      "image/png": "[encoded data removed]",
      "text/plain": [
       "<Figure size 432x288 with 1 Axes>"
      ]
     },
     "metadata": {
      "needs_background": "light"
     },
     "output_type": "display_data"
    },
    {
     "data": {
      "image/png": "[encoded data removed]",
      "text/plain": [
       "<Figure size 432x288 with 1 Axes>"
      ]
     },
     "metadata": {
      "needs_background": "light"
     },
     "output_type": "display_data"
    }
   ],
   "source": [
    "# We plot here the loss as function of epochs\n",
    "plt.plot(history2.history[\"loss\"], 'bo--')\n",
    "plt.plot(history2.history[\"val_loss\"], 'go--')\n",
    "plt.title(\"train and validation loss functions\")\n",
    "plt.xlabel('epochs')\n",
    "plt.ylabel('loss')\n",
    "plt.legend(['train', 'validation'])\n",
    "\n",
    "# END CODE HERE\n",
    "plt.show()\n",
    "###############################################################################\n",
    "###############################################################################\n",
    "\n",
    "# summarize history for accuracy\n",
    "# START CODE HERE\n",
    "# START CODE HERE\n",
    "# We plot here the accuracy as function of epochs\n",
    "\n",
    "plt.plot(history2.history[\"accuracy\"], 'bo--')\n",
    "plt.plot(history2.history[\"val_accuracy\"], 'go--')\n",
    "plt.title(\"train and validation loss functions\")\n",
    "plt.xlabel('epochs')\n",
    "plt.ylabel('Accuracy')\n",
    "plt.legend(['train', 'validation'])\n",
    "\n",
    "# END CODE HERE\n",
    "plt.show()"
   ]
  },
  {
   "cell_type": "markdown",
   "metadata": {
    "id": "vCjZgUtXnn5K"
   },
   "source": [
    "It did not increases the accuracy very much since our model already did not overfit the data."
   ]
  },
  {
   "cell_type": "markdown",
   "metadata": {
    "id": "uHChTqe97-e9"
   },
   "source": [
    "# **convolutional neural network**"
   ]
  },
  {
   "cell_type": "markdown",
   "metadata": {
    "id": "NgJI7JkSfxM_"
   },
   "source": [
    "This model is known to be very efficient on images, since it does not loose the structure of the image. In contrast the MLP take the images as vectors which make cause the loss of the information. \n",
    "This model was not in the lectures but I red about it in some articles"
   ]
  },
  {
   "cell_type": "code",
   "execution_count": 10,
   "metadata": {
    "id": "_7YlubN0coox"
   },
   "outputs": [],
   "source": [
    "X_train.shape\n",
    "X_test = X_test.reshape(-1, 28, 28, 1)\n",
    "X_train = X_train.reshape(-1, 28, 28, 1)"
   ]
  },
  {
   "cell_type": "code",
   "execution_count": 11,
   "metadata": {
    "id": "-ciY8eZ7798S"
   },
   "outputs": [],
   "source": [
    "from tensorflow.keras import datasets, layers\n",
    "\n",
    "model = Sequential()\n",
    "model.add(layers.Conv2D(28, (3, 3), activation='relu', input_shape=(28, 28, 1)))\n",
    "model.add(layers.MaxPooling2D((2, 2)))\n",
    "model.add(layers.Conv2D(64, (3, 3), activation='relu'))\n",
    "model.add(layers.MaxPooling2D((2, 2)))\n",
    "model.add(layers.Conv2D(64, (3, 3), activation='relu'))\n",
    "\n",
    "\n",
    "model.add(layers.Flatten())\n",
    "model.add(layers.Dense(64, activation='relu'))\n",
    "model.add(layers.Dense(1, activation='sigmoid'))"
   ]
  },
  {
   "cell_type": "code",
   "execution_count": 12,
   "metadata": {
    "colab": {
     "base_uri": "https://localhost:8080/"
    },
    "id": "G_wpFcNY832g",
    "outputId": "25e4c018-5d91-452e-a73a-13114c7cee63"
   },
   "outputs": [
    {
     "name": "stdout",
     "output_type": "stream",
     "text": [
      "Epoch 1/10\n",
      "63/63 [==============================] - 4s 41ms/step - loss: 6.9317 - accuracy: 0.6696 - val_loss: 0.5774 - val_accuracy: 0.7770\n",
      "Epoch 2/10\n",
      "63/63 [==============================] - 2s 38ms/step - loss: 0.4080 - accuracy: 0.8385 - val_loss: 0.4881 - val_accuracy: 0.7950\n",
      "Epoch 3/10\n",
      "63/63 [==============================] - 2s 38ms/step - loss: 0.2805 - accuracy: 0.8828 - val_loss: 0.3529 - val_accuracy: 0.8560\n",
      "Epoch 4/10\n",
      "63/63 [==============================] - 4s 62ms/step - loss: 0.2135 - accuracy: 0.9086 - val_loss: 0.3450 - val_accuracy: 0.8630\n",
      "Epoch 5/10\n",
      "63/63 [==============================] - 2s 38ms/step - loss: 0.1608 - accuracy: 0.9403 - val_loss: 0.3314 - val_accuracy: 0.8740\n",
      "Epoch 6/10\n",
      "63/63 [==============================] - 2s 37ms/step - loss: 0.1069 - accuracy: 0.9652 - val_loss: 0.3374 - val_accuracy: 0.8750\n",
      "Epoch 7/10\n",
      "63/63 [==============================] - 2s 36ms/step - loss: 0.1013 - accuracy: 0.9689 - val_loss: 0.3361 - val_accuracy: 0.8770\n",
      "Epoch 8/10\n",
      "63/63 [==============================] - 4s 60ms/step - loss: 0.0597 - accuracy: 0.9807 - val_loss: 0.3399 - val_accuracy: 0.8780\n",
      "Epoch 9/10\n",
      "63/63 [==============================] - 3s 51ms/step - loss: 0.0425 - accuracy: 0.9900 - val_loss: 0.4011 - val_accuracy: 0.8730\n",
      "Epoch 10/10\n",
      "63/63 [==============================] - 2s 38ms/step - loss: 0.0545 - accuracy: 0.9848 - val_loss: 0.4494 - val_accuracy: 0.8780\n"
     ]
    }
   ],
   "source": [
    "model.compile(optimizer='adam',\n",
    "              loss=tf.keras.losses.BinaryCrossentropy(), metrics=['accuracy'])\n",
    "\n",
    "history3 = model.fit(X_train, y_train, epochs=10,\n",
    "                     validation_data=(X_test, y_test))"
   ]
  },
  {
   "cell_type": "markdown",
   "metadata": {
    "id": "yDxtJra8iwjg"
   },
   "source": [
    "We can notice that there is a litle bit of the overfiting phenomenon, but the fact that the accuracy on the testing data is height make us relief.\n"
   ]
  },
  {
   "cell_type": "markdown",
   "metadata": {
    "id": "oOlE3spijLlW"
   },
   "source": [
    "# **Conclusion** "
   ]
  },
  {
   "cell_type": "markdown",
   "metadata": {
    "id": "SwhCzryjjSRj"
   },
   "source": [
    "I learned that in machine learning there is a trade off between the accuracy on the training data and the testing data. We don't want to underfit and also not to overfit. It seems that avoiding overfiting is more challenging than avoiding underfiting. We did use dropout in this project to avoid overfiting.\n",
    "\n",
    "I learned also that the hyper-parameteres are very important in finding the best model. It is also difficult to find them. For exemple in the situation of deep learning, the number of lyeres and neurones can be seen as hyper parameters. I found theme by manuel testing, but we can also finding theme throught cross validation."
   ]
  }
 ],
 "metadata": {
  "colab": {
   "collapsed_sections": [],
   "name": "ML_project (2).ipynb",
   "provenance": [],
   "toc_visible": true
  },
  "kernelspec": {
   "display_name": "Python 3",
   "language": "python",
   "name": "python3"
  },
  "language_info": {
   "codemirror_mode": {
    "name": "ipython",
    "version": 3
   },
   "file_extension": ".py",
   "mimetype": "text/x-python",
   "name": "python",
   "nbconvert_exporter": "python",
   "pygments_lexer": "ipython3",
   "version": "3.8.3"
  }
 },
 "nbformat": 4,
 "nbformat_minor": 1
}
