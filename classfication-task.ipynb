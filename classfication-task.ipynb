{
 "cells": [
  {
   "cell_type": "markdown",
   "metadata": {},
   "source": [
    "\n",
    "</style>\n",
    "<h1  style=\"text-align:center;font-size:60px\">  Machine Learning Projects\n",
    "    <h2 style=\"text-align:center\">Classification Dataset : Drug Consumption</h2>\n",
    "    <br><br>\n",
    "    <h2 style=\"text-align:left;font-size:20px\">\n",
    "        <u> Date:</u> April 2021 <br><br>\n",
    "        <u> Groupe 24:</u><br><br>\n",
    "          <li>Anas Krichel ( anas.krichel@telecom-paris.fr )</li>\n",
    "          <li>Maha Meihemid ( meihemid.meihemid@telecom-paris.fr )</li>\n",
    "          <li>Louis Dorge ( ldorge@telecom-paris.fr )</li><br> \n",
    "     </h2>\n",
    "</h1>"
   ]
  },
  {
   "cell_type": "markdown",
   "metadata": {},
   "source": [
    "# II.Data Set : drug_consumption"
   ]
  },
  {
   "cell_type": "markdown",
   "metadata": {},
   "source": [
    "## Data Set Informartion :"
   ]
  },
  {
   "cell_type": "markdown",
   "metadata": {},
   "source": [
    "Database contains records for 1885 respondents. For each respondent 12 attributes are known: Personality measurements which include NEO-FFI-R (neuroticism, extraversion, openness to experience, agreeableness, and conscientiousness), BIS-11 (impulsivity), and ImpSS (sensation seeking), level of education, age, gender, country of residence and ethnicity. All input attributes are originally categorical and are quantified. After quantification values of all input features can be considered as real-valued. In addition, participants were questioned concerning their use of 18 legal and illegal drugs (alcohol, amphetamines, amyl nitrite, benzodiazepine, cannabis, chocolate, cocaine, caffeine, crack, ecstasy, heroin, ketamine, legal highs, LSD, methadone, mushrooms, nicotine and volatile substance abuse and one fictitious drug (Semeron) which was introduced to identify over-claimers. For each drug they have to select one of the answers: never used the drug, used it over a decade ago, or in the last decade, year, month, week, or day.\n",
    "Database contains 18 classification problems. Each of independent label variables contains seven classes: \"Never Used\", \"Used over a Decade Ago\", \"Used in Last Decade\", \"Used in Last Year\", \"Used in Last Month\", \"Used in Last Week\", and \"Used in Last Day\".\n"
   ]
  },
  {
   "cell_type": "markdown",
   "metadata": {},
   "source": [
    " DataSet website: https://archive.ics.uci.edu/ml/datasets/Drug+consumption+%28quantified%29"
   ]
  },
  {
   "cell_type": "markdown",
   "metadata": {},
   "source": [
    "### II-1.dataset analysis"
   ]
  },
  {
   "cell_type": "code",
   "execution_count": 2,
   "metadata": {},
   "outputs": [
    {
     "name": "stdout",
     "output_type": "stream",
     "text": [
      "libraries are imported\n"
     ]
    }
   ],
   "source": [
    "import numpy as np\n",
    "import pandas as pd\n",
    "import matplotlib.pyplot as plt\n",
    "from sklearn.svm import SVC\n",
    "from sklearn import svm\n",
    "import seaborn as sns\n",
    "from sklearn.ensemble import RandomForestClassifier\n",
    "from sklearn import metrics\n",
    "from sklearn.model_selection import GridSearchCV\n",
    "from sklearn.model_selection import train_test_split\n",
    "from sklearn.linear_model import LogisticRegression\n",
    "from sklearn.multiclass import OneVsRestClassifier\n",
    "from sklearn.svm import SVC\n",
    "from sklearn.multiclass import OneVsOneClassifier\n",
    "from sklearn.preprocessing import StandardScaler\n",
    "from sklearn.model_selection import StratifiedKFold\n",
    "from sklearn.metrics import confusion_matrix\n",
    "from sklearn.tree import DecisionTreeClassifier, ExtraTreeClassifier\n",
    "np.random.seed(1234)# fixer la  graine du générateur de nombres pseudo-aléatoires.\n",
    "print(\"libraries are imported\")"
   ]
  },
  {
   "cell_type": "code",
   "execution_count": 3,
   "metadata": {},
   "outputs": [],
   "source": [
    "from keras.models import Sequential\n",
    "from keras.layers import Dense\n",
    "from keras.wrappers.scikit_learn import KerasClassifier\n",
    "from sklearn.model_selection import cross_val_score\n",
    "from sklearn.preprocessing import LabelEncoder\n",
    "from sklearn.model_selection import StratifiedKFold\n",
    "from sklearn.preprocessing import StandardScaler\n",
    "from sklearn.pipeline import Pipeline"
   ]
  },
  {
   "cell_type": "code",
   "execution_count": 4,
   "metadata": {},
   "outputs": [],
   "source": [
    "# Let's name our columns after analysis data-sheet from dataset source\n",
    "columns_name = ['ID', 'Age', 'Gender', 'Education', 'Country', 'Ethnicity', 'Neuroticism', 'Extraversion', 'Openness', 'Agreeableness', 'Conscientiousness', 'Impulsiveness', 'Sensation_seeking', 'Alcohol', 'Amphetamine', 'Amyl_nitrite', 'Benzodiazepine', 'Caffeine', 'Cannabis', 'Chocolate', 'Cocaine', 'Crack', 'Ecstasy', 'Heroin', 'Ketamine', 'Legal_highs', 'LSD', 'Methadone', 'Mushrooms', 'Nicotine', 'Semeron', 'VSA']"
   ]
  },
  {
   "cell_type": "code",
   "execution_count": 5,
   "metadata": {},
   "outputs": [],
   "source": [
    "# Load the data\n",
    "df = pd.read_csv('drug_consumption.data', header = None, names = columns_name)"
   ]
  },
  {
   "cell_type": "code",
   "execution_count": 6,
   "metadata": {},
   "outputs": [],
   "source": [
    "# Taking one outputs to predict like what was said on ecampus (this dataset contains multiple outputs to predict in parallel: please pick only one)), so we choose 'Cannabis'\n",
    "df=df[['ID', 'Age', 'Gender', 'Education', 'Country', 'Ethnicity', 'Neuroticism', 'Extraversion', 'Openness', 'Agreeableness', 'Conscientiousness', 'Impulsiveness', 'Sensation_seeking', 'Cannabis']]"
   ]
  },
  {
   "cell_type": "code",
   "execution_count": 7,
   "metadata": {},
   "outputs": [
    {
     "name": "stdout",
     "output_type": "stream",
     "text": [
      "Index(['ID', 'Age', 'Gender', 'Education', 'Country', 'Ethnicity',\n",
      "       'Neuroticism', 'Extraversion', 'Openness', 'Agreeableness',\n",
      "       'Conscientiousness', 'Impulsiveness', 'Sensation_seeking', 'Cannabis'],\n",
      "      dtype='object')\n"
     ]
    }
   ],
   "source": [
    "# Create a variable containing all the columns/features names\n",
    "data_columns = df.columns\n",
    "print(data_columns)"
   ]
  },
  {
   "cell_type": "code",
   "execution_count": 8,
   "metadata": {},
   "outputs": [
    {
     "name": "stdout",
     "output_type": "stream",
     "text": [
      "Missing Values: \n"
     ]
    },
    {
     "data": {
      "text/plain": [
       "ID                   0\n",
       "Age                  0\n",
       "Gender               0\n",
       "Education            0\n",
       "Country              0\n",
       "Ethnicity            0\n",
       "Neuroticism          0\n",
       "Extraversion         0\n",
       "Openness             0\n",
       "Agreeableness        0\n",
       "Conscientiousness    0\n",
       "Impulsiveness        0\n",
       "Sensation_seeking    0\n",
       "Cannabis             0\n",
       "dtype: int64"
      ]
     },
     "metadata": {},
     "output_type": "display_data"
    },
    {
     "name": "stdout",
     "output_type": "stream",
     "text": [
      "Sample of the dataset: \n"
     ]
    },
    {
     "data": {
      "text/html": [
       "<div>\n",
       "<style scoped>\n",
       "    .dataframe tbody tr th:only-of-type {\n",
       "        vertical-align: middle;\n",
       "    }\n",
       "\n",
       "    .dataframe tbody tr th {\n",
       "        vertical-align: top;\n",
       "    }\n",
       "\n",
       "    .dataframe thead th {\n",
       "        text-align: right;\n",
       "    }\n",
       "</style>\n",
       "<table border=\"1\" class=\"dataframe\">\n",
       "  <thead>\n",
       "    <tr style=\"text-align: right;\">\n",
       "      <th></th>\n",
       "      <th>ID</th>\n",
       "      <th>Age</th>\n",
       "      <th>Gender</th>\n",
       "      <th>Education</th>\n",
       "      <th>Country</th>\n",
       "      <th>Ethnicity</th>\n",
       "      <th>Neuroticism</th>\n",
       "      <th>Extraversion</th>\n",
       "      <th>Openness</th>\n",
       "      <th>Agreeableness</th>\n",
       "      <th>Conscientiousness</th>\n",
       "      <th>Impulsiveness</th>\n",
       "      <th>Sensation_seeking</th>\n",
       "      <th>Cannabis</th>\n",
       "    </tr>\n",
       "  </thead>\n",
       "  <tbody>\n",
       "    <tr>\n",
       "      <th>0</th>\n",
       "      <td>1</td>\n",
       "      <td>0.49788</td>\n",
       "      <td>0.48246</td>\n",
       "      <td>-0.05921</td>\n",
       "      <td>0.96082</td>\n",
       "      <td>0.12600</td>\n",
       "      <td>0.31287</td>\n",
       "      <td>-0.57545</td>\n",
       "      <td>-0.58331</td>\n",
       "      <td>-0.91699</td>\n",
       "      <td>-0.00665</td>\n",
       "      <td>-0.21712</td>\n",
       "      <td>-1.18084</td>\n",
       "      <td>CL0</td>\n",
       "    </tr>\n",
       "    <tr>\n",
       "      <th>1</th>\n",
       "      <td>2</td>\n",
       "      <td>-0.07854</td>\n",
       "      <td>-0.48246</td>\n",
       "      <td>1.98437</td>\n",
       "      <td>0.96082</td>\n",
       "      <td>-0.31685</td>\n",
       "      <td>-0.67825</td>\n",
       "      <td>1.93886</td>\n",
       "      <td>1.43533</td>\n",
       "      <td>0.76096</td>\n",
       "      <td>-0.14277</td>\n",
       "      <td>-0.71126</td>\n",
       "      <td>-0.21575</td>\n",
       "      <td>CL4</td>\n",
       "    </tr>\n",
       "    <tr>\n",
       "      <th>2</th>\n",
       "      <td>3</td>\n",
       "      <td>0.49788</td>\n",
       "      <td>-0.48246</td>\n",
       "      <td>-0.05921</td>\n",
       "      <td>0.96082</td>\n",
       "      <td>-0.31685</td>\n",
       "      <td>-0.46725</td>\n",
       "      <td>0.80523</td>\n",
       "      <td>-0.84732</td>\n",
       "      <td>-1.62090</td>\n",
       "      <td>-1.01450</td>\n",
       "      <td>-1.37983</td>\n",
       "      <td>0.40148</td>\n",
       "      <td>CL3</td>\n",
       "    </tr>\n",
       "    <tr>\n",
       "      <th>3</th>\n",
       "      <td>4</td>\n",
       "      <td>-0.95197</td>\n",
       "      <td>0.48246</td>\n",
       "      <td>1.16365</td>\n",
       "      <td>0.96082</td>\n",
       "      <td>-0.31685</td>\n",
       "      <td>-0.14882</td>\n",
       "      <td>-0.80615</td>\n",
       "      <td>-0.01928</td>\n",
       "      <td>0.59042</td>\n",
       "      <td>0.58489</td>\n",
       "      <td>-1.37983</td>\n",
       "      <td>-1.18084</td>\n",
       "      <td>CL2</td>\n",
       "    </tr>\n",
       "    <tr>\n",
       "      <th>4</th>\n",
       "      <td>5</td>\n",
       "      <td>0.49788</td>\n",
       "      <td>0.48246</td>\n",
       "      <td>1.98437</td>\n",
       "      <td>0.96082</td>\n",
       "      <td>-0.31685</td>\n",
       "      <td>0.73545</td>\n",
       "      <td>-1.63340</td>\n",
       "      <td>-0.45174</td>\n",
       "      <td>-0.30172</td>\n",
       "      <td>1.30612</td>\n",
       "      <td>-0.21712</td>\n",
       "      <td>-0.21575</td>\n",
       "      <td>CL3</td>\n",
       "    </tr>\n",
       "  </tbody>\n",
       "</table>\n",
       "</div>"
      ],
      "text/plain": [
       "   ID      Age   Gender  Education  Country  Ethnicity  Neuroticism  \\\n",
       "0   1  0.49788  0.48246   -0.05921  0.96082    0.12600      0.31287   \n",
       "1   2 -0.07854 -0.48246    1.98437  0.96082   -0.31685     -0.67825   \n",
       "2   3  0.49788 -0.48246   -0.05921  0.96082   -0.31685     -0.46725   \n",
       "3   4 -0.95197  0.48246    1.16365  0.96082   -0.31685     -0.14882   \n",
       "4   5  0.49788  0.48246    1.98437  0.96082   -0.31685      0.73545   \n",
       "\n",
       "   Extraversion  Openness  Agreeableness  Conscientiousness  Impulsiveness  \\\n",
       "0      -0.57545  -0.58331       -0.91699           -0.00665       -0.21712   \n",
       "1       1.93886   1.43533        0.76096           -0.14277       -0.71126   \n",
       "2       0.80523  -0.84732       -1.62090           -1.01450       -1.37983   \n",
       "3      -0.80615  -0.01928        0.59042            0.58489       -1.37983   \n",
       "4      -1.63340  -0.45174       -0.30172            1.30612       -0.21712   \n",
       "\n",
       "   Sensation_seeking Cannabis  \n",
       "0           -1.18084      CL0  \n",
       "1           -0.21575      CL4  \n",
       "2            0.40148      CL3  \n",
       "3           -1.18084      CL2  \n",
       "4           -0.21575      CL3  "
      ]
     },
     "metadata": {},
     "output_type": "display_data"
    }
   ],
   "source": [
    "print(f\"\"\"Missing Values: \"\"\")\n",
    "display(df.isna().sum())\n",
    "print(f\"\"\"Sample of the dataset: \"\"\")\n",
    "display(df.head())"
   ]
  },
  {
   "cell_type": "markdown",
   "metadata": {},
   "source": [
    "We see that there are no missing values in the data, and all output attributes are coded as categorical data that will require preprocessing. The ID column is redundant in this data mining exercise.\n",
    "\n"
   ]
  },
  {
   "cell_type": "code",
   "execution_count": 9,
   "metadata": {},
   "outputs": [],
   "source": [
    "# removing the ID column from dataset\n",
    "df.drop(columns=\"ID\", inplace=True)"
   ]
  },
  {
   "cell_type": "code",
   "execution_count": 10,
   "metadata": {},
   "outputs": [
    {
     "data": {
      "text/html": [
       "<div>\n",
       "<style scoped>\n",
       "    .dataframe tbody tr th:only-of-type {\n",
       "        vertical-align: middle;\n",
       "    }\n",
       "\n",
       "    .dataframe tbody tr th {\n",
       "        vertical-align: top;\n",
       "    }\n",
       "\n",
       "    .dataframe thead th {\n",
       "        text-align: right;\n",
       "    }\n",
       "</style>\n",
       "<table border=\"1\" class=\"dataframe\">\n",
       "  <thead>\n",
       "    <tr style=\"text-align: right;\">\n",
       "      <th></th>\n",
       "      <th>Age</th>\n",
       "      <th>Gender</th>\n",
       "      <th>Education</th>\n",
       "      <th>Country</th>\n",
       "      <th>Ethnicity</th>\n",
       "      <th>Neuroticism</th>\n",
       "      <th>Extraversion</th>\n",
       "      <th>Openness</th>\n",
       "      <th>Agreeableness</th>\n",
       "      <th>Conscientiousness</th>\n",
       "      <th>Impulsiveness</th>\n",
       "      <th>Sensation_seeking</th>\n",
       "      <th>Cannabis</th>\n",
       "    </tr>\n",
       "  </thead>\n",
       "  <tbody>\n",
       "    <tr>\n",
       "      <th>0</th>\n",
       "      <td>0.49788</td>\n",
       "      <td>0.48246</td>\n",
       "      <td>-0.05921</td>\n",
       "      <td>0.96082</td>\n",
       "      <td>0.12600</td>\n",
       "      <td>0.31287</td>\n",
       "      <td>-0.57545</td>\n",
       "      <td>-0.58331</td>\n",
       "      <td>-0.91699</td>\n",
       "      <td>-0.00665</td>\n",
       "      <td>-0.21712</td>\n",
       "      <td>-1.18084</td>\n",
       "      <td>CL0</td>\n",
       "    </tr>\n",
       "    <tr>\n",
       "      <th>1</th>\n",
       "      <td>-0.07854</td>\n",
       "      <td>-0.48246</td>\n",
       "      <td>1.98437</td>\n",
       "      <td>0.96082</td>\n",
       "      <td>-0.31685</td>\n",
       "      <td>-0.67825</td>\n",
       "      <td>1.93886</td>\n",
       "      <td>1.43533</td>\n",
       "      <td>0.76096</td>\n",
       "      <td>-0.14277</td>\n",
       "      <td>-0.71126</td>\n",
       "      <td>-0.21575</td>\n",
       "      <td>CL4</td>\n",
       "    </tr>\n",
       "    <tr>\n",
       "      <th>2</th>\n",
       "      <td>0.49788</td>\n",
       "      <td>-0.48246</td>\n",
       "      <td>-0.05921</td>\n",
       "      <td>0.96082</td>\n",
       "      <td>-0.31685</td>\n",
       "      <td>-0.46725</td>\n",
       "      <td>0.80523</td>\n",
       "      <td>-0.84732</td>\n",
       "      <td>-1.62090</td>\n",
       "      <td>-1.01450</td>\n",
       "      <td>-1.37983</td>\n",
       "      <td>0.40148</td>\n",
       "      <td>CL3</td>\n",
       "    </tr>\n",
       "    <tr>\n",
       "      <th>3</th>\n",
       "      <td>-0.95197</td>\n",
       "      <td>0.48246</td>\n",
       "      <td>1.16365</td>\n",
       "      <td>0.96082</td>\n",
       "      <td>-0.31685</td>\n",
       "      <td>-0.14882</td>\n",
       "      <td>-0.80615</td>\n",
       "      <td>-0.01928</td>\n",
       "      <td>0.59042</td>\n",
       "      <td>0.58489</td>\n",
       "      <td>-1.37983</td>\n",
       "      <td>-1.18084</td>\n",
       "      <td>CL2</td>\n",
       "    </tr>\n",
       "    <tr>\n",
       "      <th>4</th>\n",
       "      <td>0.49788</td>\n",
       "      <td>0.48246</td>\n",
       "      <td>1.98437</td>\n",
       "      <td>0.96082</td>\n",
       "      <td>-0.31685</td>\n",
       "      <td>0.73545</td>\n",
       "      <td>-1.63340</td>\n",
       "      <td>-0.45174</td>\n",
       "      <td>-0.30172</td>\n",
       "      <td>1.30612</td>\n",
       "      <td>-0.21712</td>\n",
       "      <td>-0.21575</td>\n",
       "      <td>CL3</td>\n",
       "    </tr>\n",
       "  </tbody>\n",
       "</table>\n",
       "</div>"
      ],
      "text/plain": [
       "       Age   Gender  Education  Country  Ethnicity  Neuroticism  Extraversion  \\\n",
       "0  0.49788  0.48246   -0.05921  0.96082    0.12600      0.31287      -0.57545   \n",
       "1 -0.07854 -0.48246    1.98437  0.96082   -0.31685     -0.67825       1.93886   \n",
       "2  0.49788 -0.48246   -0.05921  0.96082   -0.31685     -0.46725       0.80523   \n",
       "3 -0.95197  0.48246    1.16365  0.96082   -0.31685     -0.14882      -0.80615   \n",
       "4  0.49788  0.48246    1.98437  0.96082   -0.31685      0.73545      -1.63340   \n",
       "\n",
       "   Openness  Agreeableness  Conscientiousness  Impulsiveness  \\\n",
       "0  -0.58331       -0.91699           -0.00665       -0.21712   \n",
       "1   1.43533        0.76096           -0.14277       -0.71126   \n",
       "2  -0.84732       -1.62090           -1.01450       -1.37983   \n",
       "3  -0.01928        0.59042            0.58489       -1.37983   \n",
       "4  -0.45174       -0.30172            1.30612       -0.21712   \n",
       "\n",
       "   Sensation_seeking Cannabis  \n",
       "0           -1.18084      CL0  \n",
       "1           -0.21575      CL4  \n",
       "2            0.40148      CL3  \n",
       "3           -1.18084      CL2  \n",
       "4           -0.21575      CL3  "
      ]
     },
     "execution_count": 10,
     "metadata": {},
     "output_type": "execute_result"
    }
   ],
   "source": [
    "#returns the first 5 rows of the dataframe\n",
    "df.head()"
   ]
  },
  {
   "cell_type": "code",
   "execution_count": 11,
   "metadata": {
    "scrolled": true
   },
   "outputs": [
    {
     "data": {
      "image/png": "[encoded data removed]",
      "text/plain": [
       "<Figure size 432x288 with 1 Axes>"
      ]
     },
     "metadata": {
      "needs_background": "light"
     },
     "output_type": "display_data"
    }
   ],
   "source": [
    "# Count of Different Classes Vs Cannabis\"\n",
    "fig, axes = plt.subplots(1,1)\n",
    "fig.suptitle(\"Count of Different Classes Vs Cannabis\")\n",
    "sns.countplot(x='Cannabis', data=df)    \n",
    "\n",
    "plt.tight_layout()\n",
    "plt.show()"
   ]
  },
  {
   "cell_type": "code",
   "execution_count": 12,
   "metadata": {
    "scrolled": true
   },
   "outputs": [
    {
     "data": {
      "text/plain": [
       "Age                 -0.036269\n",
       "Gender               0.235378\n",
       "Education            0.160696\n",
       "Country              0.306935\n",
       "Ethnicity           -0.121806\n",
       "Neuroticism          0.050112\n",
       "Extraversion         0.024334\n",
       "Openness             0.108904\n",
       "Agreeableness        0.013278\n",
       "Conscientiousness    0.065540\n",
       "Impulsiveness        0.139896\n",
       "Sensation_seeking    0.120540\n",
       "Cannabis             1.000000\n",
       "Name: Cannabis, dtype: float64"
      ]
     },
     "execution_count": 12,
     "metadata": {},
     "output_type": "execute_result"
    }
   ],
   "source": [
    "#Study of the CORRELATION BETWEEN variables and cannabis\n",
    "cannabis_corr=df.apply(lambda x : pd.factorize(x)[0]).corr(method='pearson')\n",
    "#cannabis_corr\n",
    "cannabis_corr['Cannabis']"
   ]
  },
  {
   "cell_type": "code",
   "execution_count": 13,
   "metadata": {},
   "outputs": [],
   "source": [
    "demo_data = df.copy()"
   ]
  },
  {
   "cell_type": "code",
   "execution_count": 14,
   "metadata": {},
   "outputs": [],
   "source": [
    "age = ['18-24' if a <= -0.9 else \n",
    "       '25-34' if a >= -0.5 and a < 0 else \n",
    "       '35-44' if a > 0 and a < 1 else \n",
    "       '45-54' if a > 1 and a < 1.5 else \n",
    "       '55-64' if a > 1.5 and a < 2 else \n",
    "       '65+' \n",
    "       for a in demo_data['Age']]\n",
    "\n",
    "gender = ['Female' if g > 0 else \"Male\" for g in demo_data['Gender']]\n",
    "\n",
    "education = ['Left school before 16 years' if e <-2 else \n",
    "             'Left school at 16 years' if e > -2 and e < -1.5 else \n",
    "             'Left school at 17 years' if e > -1.5 and e < -1.4 else \n",
    "             'Left school at 18 years' if e > -1.4 and e < -1 else \n",
    "             'Some college or university, no certificate or degree' if e > -1 and e < -0.5 else \n",
    "             'Professional certificate/ diploma' if e > -0.5 and e < 0 else \n",
    "             'University degree' if e > 0 and e < 0.5 else \n",
    "             'Masters degree' if e > 0.5 and e < 1.5 else \n",
    "             'Doctorate degree' \n",
    "             for e in demo_data['Education']]\n",
    "\n",
    "country = ['USA' if c < -0.5 else \n",
    "           'New Zealand' if c > -0.5 and c < -0.4 else \n",
    "           'Other' if c > -0.4 and c < -0.2 else \n",
    "           'Australia' if c > -0.2 and c < 0 else \n",
    "           'Ireland' if c > 0 and c < 0.23 else \n",
    "           'Canada' if c > 0.23 and c < 0.9 else \n",
    "           'UK' \n",
    "           for c in demo_data['Country']]\n",
    "\n",
    "ethnicity = ['Black' if e < -1 else \n",
    "             'Asian' if e > -1 and e < -0.4 else \n",
    "             'White' if e > -0.4 and e < -0.25 else \n",
    "             'Mixed-White/Black' if e >= -0.25 and e < 0.11 else \n",
    "             'Mixed-White/Asian' if e > 0.12 and e < 1 else \n",
    "             'Mixed-Black/Asian' if e > 1.9 else \n",
    "             'Other' \n",
    "             for e in demo_data['Ethnicity']]\n",
    "\n",
    "\n",
    "demo_data['Age'] = age\n",
    "demo_data['Gender'] = gender\n",
    "demo_data['Education'] = education\n",
    "demo_data['Country'] = country\n",
    "demo_data['Ethnicity'] = ethnicity"
   ]
  },
  {
   "cell_type": "code",
   "execution_count": 15,
   "metadata": {},
   "outputs": [],
   "source": [
    "def value_counts_percentage(dataset, column):\n",
    "    ''' value.counts() method extended by displaying percentage '''\n",
    "    \n",
    "    a = dataset[column].value_counts()\n",
    "    b = dataset[column].value_counts(normalize=True) * 100\n",
    "    \n",
    "    return pd.concat([a,b.round(2)], axis=1, keys=['N', '%'])"
   ]
  },
  {
   "cell_type": "code",
   "execution_count": 16,
   "metadata": {},
   "outputs": [
    {
     "data": {
      "text/html": [
       "<div>\n",
       "<style scoped>\n",
       "    .dataframe tbody tr th:only-of-type {\n",
       "        vertical-align: middle;\n",
       "    }\n",
       "\n",
       "    .dataframe tbody tr th {\n",
       "        vertical-align: top;\n",
       "    }\n",
       "\n",
       "    .dataframe thead th {\n",
       "        text-align: right;\n",
       "    }\n",
       "</style>\n",
       "<table border=\"1\" class=\"dataframe\">\n",
       "  <thead>\n",
       "    <tr style=\"text-align: right;\">\n",
       "      <th></th>\n",
       "      <th>N</th>\n",
       "      <th>%</th>\n",
       "    </tr>\n",
       "  </thead>\n",
       "  <tbody>\n",
       "    <tr>\n",
       "      <th>Male</th>\n",
       "      <td>943</td>\n",
       "      <td>50.03</td>\n",
       "    </tr>\n",
       "    <tr>\n",
       "      <th>Female</th>\n",
       "      <td>942</td>\n",
       "      <td>49.97</td>\n",
       "    </tr>\n",
       "  </tbody>\n",
       "</table>\n",
       "</div>"
      ],
      "text/plain": [
       "          N      %\n",
       "Male    943  50.03\n",
       "Female  942  49.97"
      ]
     },
     "execution_count": 16,
     "metadata": {},
     "output_type": "execute_result"
    }
   ],
   "source": [
    "#Gender\n",
    "value_counts_percentage(demo_data, 'Gender')"
   ]
  },
  {
   "cell_type": "markdown",
   "metadata": {},
   "source": [
    "###### comment : There is nearly the same number of male and female participants."
   ]
  },
  {
   "cell_type": "code",
   "execution_count": 17,
   "metadata": {},
   "outputs": [
    {
     "data": {
      "text/html": [
       "<div>\n",
       "<style scoped>\n",
       "    .dataframe tbody tr th:only-of-type {\n",
       "        vertical-align: middle;\n",
       "    }\n",
       "\n",
       "    .dataframe tbody tr th {\n",
       "        vertical-align: top;\n",
       "    }\n",
       "\n",
       "    .dataframe thead th {\n",
       "        text-align: right;\n",
       "    }\n",
       "</style>\n",
       "<table border=\"1\" class=\"dataframe\">\n",
       "  <thead>\n",
       "    <tr style=\"text-align: right;\">\n",
       "      <th></th>\n",
       "      <th>N</th>\n",
       "      <th>%</th>\n",
       "    </tr>\n",
       "  </thead>\n",
       "  <tbody>\n",
       "    <tr>\n",
       "      <th>18-24</th>\n",
       "      <td>643</td>\n",
       "      <td>34.11</td>\n",
       "    </tr>\n",
       "    <tr>\n",
       "      <th>25-34</th>\n",
       "      <td>481</td>\n",
       "      <td>25.52</td>\n",
       "    </tr>\n",
       "    <tr>\n",
       "      <th>35-44</th>\n",
       "      <td>356</td>\n",
       "      <td>18.89</td>\n",
       "    </tr>\n",
       "    <tr>\n",
       "      <th>45-54</th>\n",
       "      <td>294</td>\n",
       "      <td>15.60</td>\n",
       "    </tr>\n",
       "    <tr>\n",
       "      <th>55-64</th>\n",
       "      <td>93</td>\n",
       "      <td>4.93</td>\n",
       "    </tr>\n",
       "    <tr>\n",
       "      <th>65+</th>\n",
       "      <td>18</td>\n",
       "      <td>0.95</td>\n",
       "    </tr>\n",
       "  </tbody>\n",
       "</table>\n",
       "</div>"
      ],
      "text/plain": [
       "         N      %\n",
       "18-24  643  34.11\n",
       "25-34  481  25.52\n",
       "35-44  356  18.89\n",
       "45-54  294  15.60\n",
       "55-64   93   4.93\n",
       "65+     18   0.95"
      ]
     },
     "execution_count": 17,
     "metadata": {},
     "output_type": "execute_result"
    }
   ],
   "source": [
    "#Age\n",
    "value_counts_percentage(demo_data, 'Age')"
   ]
  },
  {
   "cell_type": "markdown",
   "metadata": {},
   "source": [
    "###### comment : The age is given in the intervals of about 10 years.\n",
    "\n",
    "18-24 is the biggest age group (about 1/3 of all participants).\n",
    "\n",
    "25-34 is 1/4 of participants.\n",
    "\n",
    "35-54 is another 1/3 of participants. The rest 5% are the people above 55 y.o."
   ]
  },
  {
   "cell_type": "code",
   "execution_count": 18,
   "metadata": {},
   "outputs": [
    {
     "data": {
      "text/plain": [
       "<matplotlib.axes._subplots.AxesSubplot at 0x299a194b940>"
      ]
     },
     "execution_count": 18,
     "metadata": {},
     "output_type": "execute_result"
    },
    {
     "data": {
      "image/png": "[encoded data removed]",
      "text/plain": [
       "<Figure size 432x288 with 1 Axes>"
      ]
     },
     "metadata": {
      "needs_background": "light"
     },
     "output_type": "display_data"
    }
   ],
   "source": [
    "sns.countplot(x='Age', palette='ch:.25', data=demo_data.sort_values(by=['Age']))"
   ]
  },
  {
   "cell_type": "code",
   "execution_count": 19,
   "metadata": {},
   "outputs": [
    {
     "data": {
      "text/html": [
       "<div>\n",
       "<style scoped>\n",
       "    .dataframe tbody tr th:only-of-type {\n",
       "        vertical-align: middle;\n",
       "    }\n",
       "\n",
       "    .dataframe tbody tr th {\n",
       "        vertical-align: top;\n",
       "    }\n",
       "\n",
       "    .dataframe thead th {\n",
       "        text-align: right;\n",
       "    }\n",
       "</style>\n",
       "<table border=\"1\" class=\"dataframe\">\n",
       "  <thead>\n",
       "    <tr style=\"text-align: right;\">\n",
       "      <th></th>\n",
       "      <th>N</th>\n",
       "      <th>%</th>\n",
       "    </tr>\n",
       "  </thead>\n",
       "  <tbody>\n",
       "    <tr>\n",
       "      <th>Some college or university, no certificate or degree</th>\n",
       "      <td>506</td>\n",
       "      <td>26.84</td>\n",
       "    </tr>\n",
       "    <tr>\n",
       "      <th>University degree</th>\n",
       "      <td>480</td>\n",
       "      <td>25.46</td>\n",
       "    </tr>\n",
       "    <tr>\n",
       "      <th>Masters degree</th>\n",
       "      <td>283</td>\n",
       "      <td>15.01</td>\n",
       "    </tr>\n",
       "    <tr>\n",
       "      <th>Professional certificate/ diploma</th>\n",
       "      <td>270</td>\n",
       "      <td>14.32</td>\n",
       "    </tr>\n",
       "    <tr>\n",
       "      <th>Left school at 18 years</th>\n",
       "      <td>100</td>\n",
       "      <td>5.31</td>\n",
       "    </tr>\n",
       "    <tr>\n",
       "      <th>Left school at 16 years</th>\n",
       "      <td>99</td>\n",
       "      <td>5.25</td>\n",
       "    </tr>\n",
       "    <tr>\n",
       "      <th>Doctorate degree</th>\n",
       "      <td>89</td>\n",
       "      <td>4.72</td>\n",
       "    </tr>\n",
       "    <tr>\n",
       "      <th>Left school at 17 years</th>\n",
       "      <td>30</td>\n",
       "      <td>1.59</td>\n",
       "    </tr>\n",
       "    <tr>\n",
       "      <th>Left school before 16 years</th>\n",
       "      <td>28</td>\n",
       "      <td>1.49</td>\n",
       "    </tr>\n",
       "  </tbody>\n",
       "</table>\n",
       "</div>"
      ],
      "text/plain": [
       "                                                      N      %\n",
       "Some college or university, no certificate or d...  506  26.84\n",
       "University degree                                   480  25.46\n",
       "Masters degree                                      283  15.01\n",
       "Professional certificate/ diploma                   270  14.32\n",
       "Left school at 18 years                             100   5.31\n",
       "Left school at 16 years                              99   5.25\n",
       "Doctorate degree                                     89   4.72\n",
       "Left school at 17 years                              30   1.59\n",
       "Left school before 16 years                          28   1.49"
      ]
     },
     "execution_count": 19,
     "metadata": {},
     "output_type": "execute_result"
    }
   ],
   "source": [
    "#Education\n",
    "value_counts_percentage(demo_data, 'Education')"
   ]
  },
  {
   "cell_type": "markdown",
   "metadata": {},
   "source": [
    "###### comment :Educated people predominate (with college and above level - about 85% of all). Other people finished their education up to 18 y.o"
   ]
  },
  {
   "cell_type": "code",
   "execution_count": 20,
   "metadata": {},
   "outputs": [
    {
     "data": {
      "text/plain": [
       "<matplotlib.axes._subplots.AxesSubplot at 0x299a194b0d0>"
      ]
     },
     "execution_count": 20,
     "metadata": {},
     "output_type": "execute_result"
    },
    {
     "data": {
      "image/png": "[encoded data removed]",
      "text/plain": [
       "<Figure size 432x288 with 1 Axes>"
      ]
     },
     "metadata": {
      "needs_background": "light"
     },
     "output_type": "display_data"
    }
   ],
   "source": [
    "edu_plot = sns.countplot(x='Education', palette='ch:.25', data=demo_data.sort_values(by=['Education']))\n",
    "edu_plot.set_xticklabels(edu_plot.get_xticklabels(), rotation=40, ha=\"right\")\n",
    "edu_plot"
   ]
  },
  {
   "cell_type": "code",
   "execution_count": 21,
   "metadata": {},
   "outputs": [
    {
     "data": {
      "text/html": [
       "<div>\n",
       "<style scoped>\n",
       "    .dataframe tbody tr th:only-of-type {\n",
       "        vertical-align: middle;\n",
       "    }\n",
       "\n",
       "    .dataframe tbody tr th {\n",
       "        vertical-align: top;\n",
       "    }\n",
       "\n",
       "    .dataframe thead th {\n",
       "        text-align: right;\n",
       "    }\n",
       "</style>\n",
       "<table border=\"1\" class=\"dataframe\">\n",
       "  <thead>\n",
       "    <tr style=\"text-align: right;\">\n",
       "      <th></th>\n",
       "      <th>N</th>\n",
       "      <th>%</th>\n",
       "    </tr>\n",
       "  </thead>\n",
       "  <tbody>\n",
       "    <tr>\n",
       "      <th>White</th>\n",
       "      <td>1720</td>\n",
       "      <td>91.25</td>\n",
       "    </tr>\n",
       "    <tr>\n",
       "      <th>Other</th>\n",
       "      <td>63</td>\n",
       "      <td>3.34</td>\n",
       "    </tr>\n",
       "    <tr>\n",
       "      <th>Black</th>\n",
       "      <td>33</td>\n",
       "      <td>1.75</td>\n",
       "    </tr>\n",
       "    <tr>\n",
       "      <th>Asian</th>\n",
       "      <td>26</td>\n",
       "      <td>1.38</td>\n",
       "    </tr>\n",
       "    <tr>\n",
       "      <th>Mixed-White/Black</th>\n",
       "      <td>20</td>\n",
       "      <td>1.06</td>\n",
       "    </tr>\n",
       "    <tr>\n",
       "      <th>Mixed-White/Asian</th>\n",
       "      <td>20</td>\n",
       "      <td>1.06</td>\n",
       "    </tr>\n",
       "    <tr>\n",
       "      <th>Mixed-Black/Asian</th>\n",
       "      <td>3</td>\n",
       "      <td>0.16</td>\n",
       "    </tr>\n",
       "  </tbody>\n",
       "</table>\n",
       "</div>"
      ],
      "text/plain": [
       "                      N      %\n",
       "White              1720  91.25\n",
       "Other                63   3.34\n",
       "Black                33   1.75\n",
       "Asian                26   1.38\n",
       "Mixed-White/Black    20   1.06\n",
       "Mixed-White/Asian    20   1.06\n",
       "Mixed-Black/Asian     3   0.16"
      ]
     },
     "execution_count": 21,
     "metadata": {},
     "output_type": "execute_result"
    }
   ],
   "source": [
    "#Ethnicity\n",
    "value_counts_percentage(demo_data, 'Ethnicity')"
   ]
  },
  {
   "cell_type": "markdown",
   "metadata": {},
   "source": [
    "###### comment : Over 90% of participants are white people."
   ]
  },
  {
   "cell_type": "code",
   "execution_count": 22,
   "metadata": {},
   "outputs": [
    {
     "data": {
      "text/html": [
       "<div>\n",
       "<style scoped>\n",
       "    .dataframe tbody tr th:only-of-type {\n",
       "        vertical-align: middle;\n",
       "    }\n",
       "\n",
       "    .dataframe tbody tr th {\n",
       "        vertical-align: top;\n",
       "    }\n",
       "\n",
       "    .dataframe thead th {\n",
       "        text-align: right;\n",
       "    }\n",
       "</style>\n",
       "<table border=\"1\" class=\"dataframe\">\n",
       "  <thead>\n",
       "    <tr style=\"text-align: right;\">\n",
       "      <th></th>\n",
       "      <th>N</th>\n",
       "      <th>%</th>\n",
       "    </tr>\n",
       "  </thead>\n",
       "  <tbody>\n",
       "    <tr>\n",
       "      <th>UK</th>\n",
       "      <td>1044</td>\n",
       "      <td>55.38</td>\n",
       "    </tr>\n",
       "    <tr>\n",
       "      <th>USA</th>\n",
       "      <td>557</td>\n",
       "      <td>29.55</td>\n",
       "    </tr>\n",
       "    <tr>\n",
       "      <th>Other</th>\n",
       "      <td>118</td>\n",
       "      <td>6.26</td>\n",
       "    </tr>\n",
       "    <tr>\n",
       "      <th>Canada</th>\n",
       "      <td>87</td>\n",
       "      <td>4.62</td>\n",
       "    </tr>\n",
       "    <tr>\n",
       "      <th>Australia</th>\n",
       "      <td>54</td>\n",
       "      <td>2.86</td>\n",
       "    </tr>\n",
       "    <tr>\n",
       "      <th>Ireland</th>\n",
       "      <td>20</td>\n",
       "      <td>1.06</td>\n",
       "    </tr>\n",
       "    <tr>\n",
       "      <th>New Zealand</th>\n",
       "      <td>5</td>\n",
       "      <td>0.27</td>\n",
       "    </tr>\n",
       "  </tbody>\n",
       "</table>\n",
       "</div>"
      ],
      "text/plain": [
       "                N      %\n",
       "UK           1044  55.38\n",
       "USA           557  29.55\n",
       "Other         118   6.26\n",
       "Canada         87   4.62\n",
       "Australia      54   2.86\n",
       "Ireland        20   1.06\n",
       "New Zealand     5   0.27"
      ]
     },
     "execution_count": 22,
     "metadata": {},
     "output_type": "execute_result"
    }
   ],
   "source": [
    "#Country\n",
    "value_counts_percentage(demo_data, 'Country')"
   ]
  },
  {
   "cell_type": "markdown",
   "metadata": {},
   "source": [
    "###### comment : All countries are officially English-speaking.\n",
    "\n",
    "Over 50% of participants come from the UK, almost 1/3 from the USA."
   ]
  },
  {
   "cell_type": "code",
   "execution_count": 23,
   "metadata": {},
   "outputs": [
    {
     "data": {
      "text/html": [
       "<div>\n",
       "<style scoped>\n",
       "    .dataframe tbody tr th:only-of-type {\n",
       "        vertical-align: middle;\n",
       "    }\n",
       "\n",
       "    .dataframe tbody tr th {\n",
       "        vertical-align: top;\n",
       "    }\n",
       "\n",
       "    .dataframe thead th {\n",
       "        text-align: right;\n",
       "    }\n",
       "</style>\n",
       "<table border=\"1\" class=\"dataframe\">\n",
       "  <thead>\n",
       "    <tr style=\"text-align: right;\">\n",
       "      <th>Country</th>\n",
       "      <th>Australia</th>\n",
       "      <th>Canada</th>\n",
       "      <th>Ireland</th>\n",
       "      <th>New Zealand</th>\n",
       "      <th>Other</th>\n",
       "      <th>UK</th>\n",
       "      <th>USA</th>\n",
       "    </tr>\n",
       "    <tr>\n",
       "      <th>Cannabis</th>\n",
       "      <th></th>\n",
       "      <th></th>\n",
       "      <th></th>\n",
       "      <th></th>\n",
       "      <th></th>\n",
       "      <th></th>\n",
       "      <th></th>\n",
       "    </tr>\n",
       "  </thead>\n",
       "  <tbody>\n",
       "    <tr>\n",
       "      <th>CL0</th>\n",
       "      <td>2</td>\n",
       "      <td>13</td>\n",
       "      <td>3</td>\n",
       "      <td>0</td>\n",
       "      <td>12</td>\n",
       "      <td>366</td>\n",
       "      <td>17</td>\n",
       "    </tr>\n",
       "    <tr>\n",
       "      <th>CL1</th>\n",
       "      <td>3</td>\n",
       "      <td>7</td>\n",
       "      <td>1</td>\n",
       "      <td>0</td>\n",
       "      <td>6</td>\n",
       "      <td>177</td>\n",
       "      <td>13</td>\n",
       "    </tr>\n",
       "    <tr>\n",
       "      <th>CL2</th>\n",
       "      <td>6</td>\n",
       "      <td>12</td>\n",
       "      <td>1</td>\n",
       "      <td>1</td>\n",
       "      <td>13</td>\n",
       "      <td>194</td>\n",
       "      <td>39</td>\n",
       "    </tr>\n",
       "    <tr>\n",
       "      <th>CL3</th>\n",
       "      <td>9</td>\n",
       "      <td>11</td>\n",
       "      <td>2</td>\n",
       "      <td>0</td>\n",
       "      <td>13</td>\n",
       "      <td>104</td>\n",
       "      <td>72</td>\n",
       "    </tr>\n",
       "    <tr>\n",
       "      <th>CL4</th>\n",
       "      <td>9</td>\n",
       "      <td>9</td>\n",
       "      <td>3</td>\n",
       "      <td>2</td>\n",
       "      <td>12</td>\n",
       "      <td>38</td>\n",
       "      <td>67</td>\n",
       "    </tr>\n",
       "    <tr>\n",
       "      <th>CL5</th>\n",
       "      <td>10</td>\n",
       "      <td>8</td>\n",
       "      <td>2</td>\n",
       "      <td>0</td>\n",
       "      <td>22</td>\n",
       "      <td>58</td>\n",
       "      <td>85</td>\n",
       "    </tr>\n",
       "    <tr>\n",
       "      <th>CL6</th>\n",
       "      <td>15</td>\n",
       "      <td>27</td>\n",
       "      <td>8</td>\n",
       "      <td>2</td>\n",
       "      <td>40</td>\n",
       "      <td>107</td>\n",
       "      <td>264</td>\n",
       "    </tr>\n",
       "  </tbody>\n",
       "</table>\n",
       "</div>"
      ],
      "text/plain": [
       "Country   Australia  Canada  Ireland  New Zealand  Other   UK  USA\n",
       "Cannabis                                                          \n",
       "CL0               2      13        3            0     12  366   17\n",
       "CL1               3       7        1            0      6  177   13\n",
       "CL2               6      12        1            1     13  194   39\n",
       "CL3               9      11        2            0     13  104   72\n",
       "CL4               9       9        3            2     12   38   67\n",
       "CL5              10       8        2            0     22   58   85\n",
       "CL6              15      27        8            2     40  107  264"
      ]
     },
     "execution_count": 23,
     "metadata": {},
     "output_type": "execute_result"
    }
   ],
   "source": [
    "#Compute a simple cross-tabulation  between 'Cannabis' and 'Country'\n",
    "pd.crosstab(demo_data['Cannabis'],demo_data['Country'])"
   ]
  },
  {
   "cell_type": "code",
   "execution_count": 24,
   "metadata": {},
   "outputs": [
    {
     "data": {
      "text/html": [
       "<div>\n",
       "<style scoped>\n",
       "    .dataframe tbody tr th:only-of-type {\n",
       "        vertical-align: middle;\n",
       "    }\n",
       "\n",
       "    .dataframe tbody tr th {\n",
       "        vertical-align: top;\n",
       "    }\n",
       "\n",
       "    .dataframe thead th {\n",
       "        text-align: right;\n",
       "    }\n",
       "</style>\n",
       "<table border=\"1\" class=\"dataframe\">\n",
       "  <thead>\n",
       "    <tr style=\"text-align: right;\">\n",
       "      <th>Education</th>\n",
       "      <th>Doctorate degree</th>\n",
       "      <th>Left school at 16 years</th>\n",
       "      <th>Left school at 17 years</th>\n",
       "      <th>Left school at 18 years</th>\n",
       "      <th>Left school before 16 years</th>\n",
       "      <th>Masters degree</th>\n",
       "      <th>Professional certificate/ diploma</th>\n",
       "      <th>Some college or university, no certificate or degree</th>\n",
       "      <th>University degree</th>\n",
       "    </tr>\n",
       "    <tr>\n",
       "      <th>Cannabis</th>\n",
       "      <th></th>\n",
       "      <th></th>\n",
       "      <th></th>\n",
       "      <th></th>\n",
       "      <th></th>\n",
       "      <th></th>\n",
       "      <th></th>\n",
       "      <th></th>\n",
       "      <th></th>\n",
       "    </tr>\n",
       "  </thead>\n",
       "  <tbody>\n",
       "    <tr>\n",
       "      <th>CL0</th>\n",
       "      <td>25</td>\n",
       "      <td>34</td>\n",
       "      <td>5</td>\n",
       "      <td>14</td>\n",
       "      <td>6</td>\n",
       "      <td>81</td>\n",
       "      <td>82</td>\n",
       "      <td>33</td>\n",
       "      <td>133</td>\n",
       "    </tr>\n",
       "    <tr>\n",
       "      <th>CL1</th>\n",
       "      <td>16</td>\n",
       "      <td>10</td>\n",
       "      <td>2</td>\n",
       "      <td>9</td>\n",
       "      <td>2</td>\n",
       "      <td>60</td>\n",
       "      <td>33</td>\n",
       "      <td>20</td>\n",
       "      <td>55</td>\n",
       "    </tr>\n",
       "    <tr>\n",
       "      <th>CL2</th>\n",
       "      <td>17</td>\n",
       "      <td>11</td>\n",
       "      <td>3</td>\n",
       "      <td>8</td>\n",
       "      <td>2</td>\n",
       "      <td>55</td>\n",
       "      <td>37</td>\n",
       "      <td>45</td>\n",
       "      <td>88</td>\n",
       "    </tr>\n",
       "    <tr>\n",
       "      <th>CL3</th>\n",
       "      <td>11</td>\n",
       "      <td>8</td>\n",
       "      <td>6</td>\n",
       "      <td>5</td>\n",
       "      <td>4</td>\n",
       "      <td>29</td>\n",
       "      <td>27</td>\n",
       "      <td>56</td>\n",
       "      <td>65</td>\n",
       "    </tr>\n",
       "    <tr>\n",
       "      <th>CL4</th>\n",
       "      <td>4</td>\n",
       "      <td>5</td>\n",
       "      <td>1</td>\n",
       "      <td>11</td>\n",
       "      <td>1</td>\n",
       "      <td>11</td>\n",
       "      <td>20</td>\n",
       "      <td>64</td>\n",
       "      <td>23</td>\n",
       "    </tr>\n",
       "    <tr>\n",
       "      <th>CL5</th>\n",
       "      <td>7</td>\n",
       "      <td>8</td>\n",
       "      <td>5</td>\n",
       "      <td>13</td>\n",
       "      <td>2</td>\n",
       "      <td>16</td>\n",
       "      <td>21</td>\n",
       "      <td>81</td>\n",
       "      <td>32</td>\n",
       "    </tr>\n",
       "    <tr>\n",
       "      <th>CL6</th>\n",
       "      <td>9</td>\n",
       "      <td>23</td>\n",
       "      <td>8</td>\n",
       "      <td>40</td>\n",
       "      <td>11</td>\n",
       "      <td>31</td>\n",
       "      <td>50</td>\n",
       "      <td>207</td>\n",
       "      <td>84</td>\n",
       "    </tr>\n",
       "  </tbody>\n",
       "</table>\n",
       "</div>"
      ],
      "text/plain": [
       "Education  Doctorate degree  Left school at 16 years  Left school at 17 years  \\\n",
       "Cannabis                                                                        \n",
       "CL0                      25                       34                        5   \n",
       "CL1                      16                       10                        2   \n",
       "CL2                      17                       11                        3   \n",
       "CL3                      11                        8                        6   \n",
       "CL4                       4                        5                        1   \n",
       "CL5                       7                        8                        5   \n",
       "CL6                       9                       23                        8   \n",
       "\n",
       "Education  Left school at 18 years  Left school before 16 years  \\\n",
       "Cannabis                                                          \n",
       "CL0                             14                            6   \n",
       "CL1                              9                            2   \n",
       "CL2                              8                            2   \n",
       "CL3                              5                            4   \n",
       "CL4                             11                            1   \n",
       "CL5                             13                            2   \n",
       "CL6                             40                           11   \n",
       "\n",
       "Education  Masters degree  Professional certificate/ diploma  \\\n",
       "Cannabis                                                       \n",
       "CL0                    81                                 82   \n",
       "CL1                    60                                 33   \n",
       "CL2                    55                                 37   \n",
       "CL3                    29                                 27   \n",
       "CL4                    11                                 20   \n",
       "CL5                    16                                 21   \n",
       "CL6                    31                                 50   \n",
       "\n",
       "Education  Some college or university, no certificate or degree  \\\n",
       "Cannabis                                                          \n",
       "CL0                                                       33      \n",
       "CL1                                                       20      \n",
       "CL2                                                       45      \n",
       "CL3                                                       56      \n",
       "CL4                                                       64      \n",
       "CL5                                                       81      \n",
       "CL6                                                      207      \n",
       "\n",
       "Education  University degree  \n",
       "Cannabis                      \n",
       "CL0                      133  \n",
       "CL1                       55  \n",
       "CL2                       88  \n",
       "CL3                       65  \n",
       "CL4                       23  \n",
       "CL5                       32  \n",
       "CL6                       84  "
      ]
     },
     "execution_count": 24,
     "metadata": {},
     "output_type": "execute_result"
    }
   ],
   "source": [
    "#Compute a simple cross-tabulation  between 'Cannabis' and 'Education'\n",
    "pd.crosstab(demo_data['Cannabis'],demo_data['Education'])"
   ]
  },
  {
   "cell_type": "code",
   "execution_count": 25,
   "metadata": {},
   "outputs": [
    {
     "data": {
      "text/html": [
       "<div>\n",
       "<style scoped>\n",
       "    .dataframe tbody tr th:only-of-type {\n",
       "        vertical-align: middle;\n",
       "    }\n",
       "\n",
       "    .dataframe tbody tr th {\n",
       "        vertical-align: top;\n",
       "    }\n",
       "\n",
       "    .dataframe thead th {\n",
       "        text-align: right;\n",
       "    }\n",
       "</style>\n",
       "<table border=\"1\" class=\"dataframe\">\n",
       "  <thead>\n",
       "    <tr style=\"text-align: right;\">\n",
       "      <th>Ethnicity</th>\n",
       "      <th>Asian</th>\n",
       "      <th>Black</th>\n",
       "      <th>Mixed-Black/Asian</th>\n",
       "      <th>Mixed-White/Asian</th>\n",
       "      <th>Mixed-White/Black</th>\n",
       "      <th>Other</th>\n",
       "      <th>White</th>\n",
       "    </tr>\n",
       "    <tr>\n",
       "      <th>Cannabis</th>\n",
       "      <th></th>\n",
       "      <th></th>\n",
       "      <th></th>\n",
       "      <th></th>\n",
       "      <th></th>\n",
       "      <th></th>\n",
       "      <th></th>\n",
       "    </tr>\n",
       "  </thead>\n",
       "  <tbody>\n",
       "    <tr>\n",
       "      <th>CL0</th>\n",
       "      <td>16</td>\n",
       "      <td>23</td>\n",
       "      <td>0</td>\n",
       "      <td>3</td>\n",
       "      <td>5</td>\n",
       "      <td>11</td>\n",
       "      <td>355</td>\n",
       "    </tr>\n",
       "    <tr>\n",
       "      <th>CL1</th>\n",
       "      <td>3</td>\n",
       "      <td>0</td>\n",
       "      <td>0</td>\n",
       "      <td>1</td>\n",
       "      <td>1</td>\n",
       "      <td>2</td>\n",
       "      <td>200</td>\n",
       "    </tr>\n",
       "    <tr>\n",
       "      <th>CL2</th>\n",
       "      <td>3</td>\n",
       "      <td>2</td>\n",
       "      <td>0</td>\n",
       "      <td>4</td>\n",
       "      <td>5</td>\n",
       "      <td>4</td>\n",
       "      <td>248</td>\n",
       "    </tr>\n",
       "    <tr>\n",
       "      <th>CL3</th>\n",
       "      <td>1</td>\n",
       "      <td>1</td>\n",
       "      <td>0</td>\n",
       "      <td>0</td>\n",
       "      <td>1</td>\n",
       "      <td>6</td>\n",
       "      <td>202</td>\n",
       "    </tr>\n",
       "    <tr>\n",
       "      <th>CL4</th>\n",
       "      <td>1</td>\n",
       "      <td>1</td>\n",
       "      <td>1</td>\n",
       "      <td>3</td>\n",
       "      <td>1</td>\n",
       "      <td>11</td>\n",
       "      <td>122</td>\n",
       "    </tr>\n",
       "    <tr>\n",
       "      <th>CL5</th>\n",
       "      <td>0</td>\n",
       "      <td>4</td>\n",
       "      <td>0</td>\n",
       "      <td>2</td>\n",
       "      <td>4</td>\n",
       "      <td>4</td>\n",
       "      <td>171</td>\n",
       "    </tr>\n",
       "    <tr>\n",
       "      <th>CL6</th>\n",
       "      <td>2</td>\n",
       "      <td>2</td>\n",
       "      <td>2</td>\n",
       "      <td>7</td>\n",
       "      <td>3</td>\n",
       "      <td>25</td>\n",
       "      <td>422</td>\n",
       "    </tr>\n",
       "  </tbody>\n",
       "</table>\n",
       "</div>"
      ],
      "text/plain": [
       "Ethnicity  Asian  Black  Mixed-Black/Asian  Mixed-White/Asian  \\\n",
       "Cannabis                                                        \n",
       "CL0           16     23                  0                  3   \n",
       "CL1            3      0                  0                  1   \n",
       "CL2            3      2                  0                  4   \n",
       "CL3            1      1                  0                  0   \n",
       "CL4            1      1                  1                  3   \n",
       "CL5            0      4                  0                  2   \n",
       "CL6            2      2                  2                  7   \n",
       "\n",
       "Ethnicity  Mixed-White/Black  Other  White  \n",
       "Cannabis                                    \n",
       "CL0                        5     11    355  \n",
       "CL1                        1      2    200  \n",
       "CL2                        5      4    248  \n",
       "CL3                        1      6    202  \n",
       "CL4                        1     11    122  \n",
       "CL5                        4      4    171  \n",
       "CL6                        3     25    422  "
      ]
     },
     "execution_count": 25,
     "metadata": {},
     "output_type": "execute_result"
    }
   ],
   "source": [
    "#Compute a simple cross-tabulation  between 'Cannabis' and 'Ethnicity'\n",
    "pd.crosstab(demo_data['Cannabis'],demo_data['Ethnicity'])\n"
   ]
  },
  {
   "cell_type": "code",
   "execution_count": 26,
   "metadata": {},
   "outputs": [
    {
     "data": {
      "text/html": [
       "<div>\n",
       "<style scoped>\n",
       "    .dataframe tbody tr th:only-of-type {\n",
       "        vertical-align: middle;\n",
       "    }\n",
       "\n",
       "    .dataframe tbody tr th {\n",
       "        vertical-align: top;\n",
       "    }\n",
       "\n",
       "    .dataframe thead th {\n",
       "        text-align: right;\n",
       "    }\n",
       "</style>\n",
       "<table border=\"1\" class=\"dataframe\">\n",
       "  <thead>\n",
       "    <tr style=\"text-align: right;\">\n",
       "      <th>Country</th>\n",
       "      <th>Australia</th>\n",
       "      <th>Canada</th>\n",
       "      <th>Ireland</th>\n",
       "      <th>New Zealand</th>\n",
       "      <th>Other</th>\n",
       "      <th>UK</th>\n",
       "      <th>USA</th>\n",
       "    </tr>\n",
       "    <tr>\n",
       "      <th>Cannabis</th>\n",
       "      <th></th>\n",
       "      <th></th>\n",
       "      <th></th>\n",
       "      <th></th>\n",
       "      <th></th>\n",
       "      <th></th>\n",
       "      <th></th>\n",
       "    </tr>\n",
       "  </thead>\n",
       "  <tbody>\n",
       "    <tr>\n",
       "      <th>CL0</th>\n",
       "      <td>2</td>\n",
       "      <td>13</td>\n",
       "      <td>3</td>\n",
       "      <td>0</td>\n",
       "      <td>12</td>\n",
       "      <td>366</td>\n",
       "      <td>17</td>\n",
       "    </tr>\n",
       "    <tr>\n",
       "      <th>CL1</th>\n",
       "      <td>3</td>\n",
       "      <td>7</td>\n",
       "      <td>1</td>\n",
       "      <td>0</td>\n",
       "      <td>6</td>\n",
       "      <td>177</td>\n",
       "      <td>13</td>\n",
       "    </tr>\n",
       "    <tr>\n",
       "      <th>CL2</th>\n",
       "      <td>6</td>\n",
       "      <td>12</td>\n",
       "      <td>1</td>\n",
       "      <td>1</td>\n",
       "      <td>13</td>\n",
       "      <td>194</td>\n",
       "      <td>39</td>\n",
       "    </tr>\n",
       "    <tr>\n",
       "      <th>CL3</th>\n",
       "      <td>9</td>\n",
       "      <td>11</td>\n",
       "      <td>2</td>\n",
       "      <td>0</td>\n",
       "      <td>13</td>\n",
       "      <td>104</td>\n",
       "      <td>72</td>\n",
       "    </tr>\n",
       "    <tr>\n",
       "      <th>CL4</th>\n",
       "      <td>9</td>\n",
       "      <td>9</td>\n",
       "      <td>3</td>\n",
       "      <td>2</td>\n",
       "      <td>12</td>\n",
       "      <td>38</td>\n",
       "      <td>67</td>\n",
       "    </tr>\n",
       "    <tr>\n",
       "      <th>CL5</th>\n",
       "      <td>10</td>\n",
       "      <td>8</td>\n",
       "      <td>2</td>\n",
       "      <td>0</td>\n",
       "      <td>22</td>\n",
       "      <td>58</td>\n",
       "      <td>85</td>\n",
       "    </tr>\n",
       "    <tr>\n",
       "      <th>CL6</th>\n",
       "      <td>15</td>\n",
       "      <td>27</td>\n",
       "      <td>8</td>\n",
       "      <td>2</td>\n",
       "      <td>40</td>\n",
       "      <td>107</td>\n",
       "      <td>264</td>\n",
       "    </tr>\n",
       "  </tbody>\n",
       "</table>\n",
       "</div>"
      ],
      "text/plain": [
       "Country   Australia  Canada  Ireland  New Zealand  Other   UK  USA\n",
       "Cannabis                                                          \n",
       "CL0               2      13        3            0     12  366   17\n",
       "CL1               3       7        1            0      6  177   13\n",
       "CL2               6      12        1            1     13  194   39\n",
       "CL3               9      11        2            0     13  104   72\n",
       "CL4               9       9        3            2     12   38   67\n",
       "CL5              10       8        2            0     22   58   85\n",
       "CL6              15      27        8            2     40  107  264"
      ]
     },
     "execution_count": 26,
     "metadata": {},
     "output_type": "execute_result"
    }
   ],
   "source": [
    "#Compute a simple cross-tabulation  between 'Cannabis' and 'Country'\n",
    "pd.crosstab(demo_data['Cannabis'],demo_data['Country'])"
   ]
  },
  {
   "cell_type": "markdown",
   "metadata": {},
   "source": [
    "### II-2.Binarization"
   ]
  },
  {
   "cell_type": "code",
   "execution_count": 27,
   "metadata": {},
   "outputs": [],
   "source": [
    "#Copy of the data \n",
    "binary_df = df.copy()  "
   ]
  },
  {
   "cell_type": "code",
   "execution_count": 28,
   "metadata": {},
   "outputs": [
    {
     "name": "stdout",
     "output_type": "stream",
     "text": [
      "Class=CL0, n=413 (21.910%)\n",
      "Class=CL4, n=140 (7.427%)\n",
      "Class=CL3, n=211 (11.194%)\n",
      "Class=CL2, n=266 (14.111%)\n",
      "Class=CL1, n=207 (10.981%)\n",
      "Class=CL6, n=463 (24.562%)\n",
      "Class=CL5, n=185 (9.814%)\n"
     ]
    }
   ],
   "source": [
    "from collections import Counter\n",
    "y= binary_df['Cannabis']\n",
    "counter = Counter(y)\n",
    "for k,v in counter.items():\n",
    "    per = v / len(y) * 100\n",
    "    print('Class=%s, n=%d (%.3f%%)' % (k, v, per))"
   ]
  },
  {
   "cell_type": "markdown",
   "metadata": {},
   "source": [
    "Problem can be transformed to binary classification by union of part of classes into one new class. For example, \"Never Used\", \"Used over a Decade Ago\", \"Used in Last Decade\" form class \"Non-user\" and all other classes form class \"User\"."
   ]
  },
  {
   "cell_type": "code",
   "execution_count": 29,
   "metadata": {},
   "outputs": [],
   "source": [
    "# transform the multiclass problem into a binary classfication\n",
    "def multi_to_bin(x):\n",
    "    \n",
    "    if (x == 'CL0') :\n",
    "        x = 0\n",
    "    if (x == 'CL1') :\n",
    "        x = 0\n",
    "    if (x == 'CL2') :\n",
    "        x = 0\n",
    "    if (x == 'CL3') :\n",
    "        x = 1\n",
    "    if (x == 'CL4') :\n",
    "        x = 1\n",
    "    if (x == 'CL5') :\n",
    "        x = 1\n",
    "    if (x == 'CL6') :\n",
    "        x = 1\n",
    "    return x"
   ]
  },
  {
   "cell_type": "code",
   "execution_count": 30,
   "metadata": {},
   "outputs": [],
   "source": [
    "# Applying our changes in classification of drug consumption to 'Cannabis' column\n",
    "binary_df['Cannabis'] = binary_df['Cannabis'].map(multi_to_bin)\n"
   ]
  },
  {
   "cell_type": "code",
   "execution_count": 31,
   "metadata": {
    "scrolled": true
   },
   "outputs": [
    {
     "data": {
      "text/html": [
       "<div>\n",
       "<style scoped>\n",
       "    .dataframe tbody tr th:only-of-type {\n",
       "        vertical-align: middle;\n",
       "    }\n",
       "\n",
       "    .dataframe tbody tr th {\n",
       "        vertical-align: top;\n",
       "    }\n",
       "\n",
       "    .dataframe thead th {\n",
       "        text-align: right;\n",
       "    }\n",
       "</style>\n",
       "<table border=\"1\" class=\"dataframe\">\n",
       "  <thead>\n",
       "    <tr style=\"text-align: right;\">\n",
       "      <th></th>\n",
       "      <th>Age</th>\n",
       "      <th>Gender</th>\n",
       "      <th>Education</th>\n",
       "      <th>Country</th>\n",
       "      <th>Ethnicity</th>\n",
       "      <th>Neuroticism</th>\n",
       "      <th>Extraversion</th>\n",
       "      <th>Openness</th>\n",
       "      <th>Agreeableness</th>\n",
       "      <th>Conscientiousness</th>\n",
       "      <th>Impulsiveness</th>\n",
       "      <th>Sensation_seeking</th>\n",
       "      <th>Cannabis</th>\n",
       "    </tr>\n",
       "  </thead>\n",
       "  <tbody>\n",
       "    <tr>\n",
       "      <th>0</th>\n",
       "      <td>0.49788</td>\n",
       "      <td>0.48246</td>\n",
       "      <td>-0.05921</td>\n",
       "      <td>0.96082</td>\n",
       "      <td>0.12600</td>\n",
       "      <td>0.31287</td>\n",
       "      <td>-0.57545</td>\n",
       "      <td>-0.58331</td>\n",
       "      <td>-0.91699</td>\n",
       "      <td>-0.00665</td>\n",
       "      <td>-0.21712</td>\n",
       "      <td>-1.18084</td>\n",
       "      <td>0</td>\n",
       "    </tr>\n",
       "    <tr>\n",
       "      <th>1</th>\n",
       "      <td>-0.07854</td>\n",
       "      <td>-0.48246</td>\n",
       "      <td>1.98437</td>\n",
       "      <td>0.96082</td>\n",
       "      <td>-0.31685</td>\n",
       "      <td>-0.67825</td>\n",
       "      <td>1.93886</td>\n",
       "      <td>1.43533</td>\n",
       "      <td>0.76096</td>\n",
       "      <td>-0.14277</td>\n",
       "      <td>-0.71126</td>\n",
       "      <td>-0.21575</td>\n",
       "      <td>1</td>\n",
       "    </tr>\n",
       "    <tr>\n",
       "      <th>2</th>\n",
       "      <td>0.49788</td>\n",
       "      <td>-0.48246</td>\n",
       "      <td>-0.05921</td>\n",
       "      <td>0.96082</td>\n",
       "      <td>-0.31685</td>\n",
       "      <td>-0.46725</td>\n",
       "      <td>0.80523</td>\n",
       "      <td>-0.84732</td>\n",
       "      <td>-1.62090</td>\n",
       "      <td>-1.01450</td>\n",
       "      <td>-1.37983</td>\n",
       "      <td>0.40148</td>\n",
       "      <td>1</td>\n",
       "    </tr>\n",
       "    <tr>\n",
       "      <th>3</th>\n",
       "      <td>-0.95197</td>\n",
       "      <td>0.48246</td>\n",
       "      <td>1.16365</td>\n",
       "      <td>0.96082</td>\n",
       "      <td>-0.31685</td>\n",
       "      <td>-0.14882</td>\n",
       "      <td>-0.80615</td>\n",
       "      <td>-0.01928</td>\n",
       "      <td>0.59042</td>\n",
       "      <td>0.58489</td>\n",
       "      <td>-1.37983</td>\n",
       "      <td>-1.18084</td>\n",
       "      <td>0</td>\n",
       "    </tr>\n",
       "    <tr>\n",
       "      <th>4</th>\n",
       "      <td>0.49788</td>\n",
       "      <td>0.48246</td>\n",
       "      <td>1.98437</td>\n",
       "      <td>0.96082</td>\n",
       "      <td>-0.31685</td>\n",
       "      <td>0.73545</td>\n",
       "      <td>-1.63340</td>\n",
       "      <td>-0.45174</td>\n",
       "      <td>-0.30172</td>\n",
       "      <td>1.30612</td>\n",
       "      <td>-0.21712</td>\n",
       "      <td>-0.21575</td>\n",
       "      <td>1</td>\n",
       "    </tr>\n",
       "  </tbody>\n",
       "</table>\n",
       "</div>"
      ],
      "text/plain": [
       "       Age   Gender  Education  Country  Ethnicity  Neuroticism  Extraversion  \\\n",
       "0  0.49788  0.48246   -0.05921  0.96082    0.12600      0.31287      -0.57545   \n",
       "1 -0.07854 -0.48246    1.98437  0.96082   -0.31685     -0.67825       1.93886   \n",
       "2  0.49788 -0.48246   -0.05921  0.96082   -0.31685     -0.46725       0.80523   \n",
       "3 -0.95197  0.48246    1.16365  0.96082   -0.31685     -0.14882      -0.80615   \n",
       "4  0.49788  0.48246    1.98437  0.96082   -0.31685      0.73545      -1.63340   \n",
       "\n",
       "   Openness  Agreeableness  Conscientiousness  Impulsiveness  \\\n",
       "0  -0.58331       -0.91699           -0.00665       -0.21712   \n",
       "1   1.43533        0.76096           -0.14277       -0.71126   \n",
       "2  -0.84732       -1.62090           -1.01450       -1.37983   \n",
       "3  -0.01928        0.59042            0.58489       -1.37983   \n",
       "4  -0.45174       -0.30172            1.30612       -0.21712   \n",
       "\n",
       "   Sensation_seeking  Cannabis  \n",
       "0           -1.18084         0  \n",
       "1           -0.21575         1  \n",
       "2            0.40148         1  \n",
       "3           -1.18084         0  \n",
       "4           -0.21575         1  "
      ]
     },
     "execution_count": 31,
     "metadata": {},
     "output_type": "execute_result"
    }
   ],
   "source": [
    "#returns the first 5 rows of the dataframe\n",
    "binary_df.head()"
   ]
  },
  {
   "cell_type": "markdown",
   "metadata": {},
   "source": [
    "#### ML Models Binary Classfication"
   ]
  },
  {
   "cell_type": "code",
   "execution_count": 32,
   "metadata": {},
   "outputs": [],
   "source": [
    "# Separating features and the target\n",
    "# dataset on Cannabis target\n",
    "y = binary_df['Cannabis']\n",
    "X = binary_df.drop(['Cannabis'], axis=1)\n",
    "X_train, X_test, y_train, y_test = train_test_split(X, y, test_size = 0.25, random_state = 42, stratify=y)"
   ]
  },
  {
   "cell_type": "code",
   "execution_count": 33,
   "metadata": {},
   "outputs": [],
   "source": [
    "# Centred the data\n",
    "X_train = StandardScaler().fit_transform(X_train)\n",
    "X_test = StandardScaler().fit_transform(X_test)"
   ]
  },
  {
   "cell_type": "markdown",
   "metadata": {},
   "source": [
    "##### Classifier 1 : Decision Tree"
   ]
  },
  {
   "cell_type": "markdown",
   "metadata": {},
   "source": [
    "Decision tree is the most powerful and popular tool for classification and prediction. A Decision tree is a flowchart like tree structure, where each internal node denotes a test on an attribute, each branch represents an outcome of the test, and each leaf node (terminal node) holds a class label.\n",
    "\n",
    "A tree can be “learned” by splitting the source set into subsets based on an attribute value test. This process is repeated on each derived subset in a recursive manner called recursive partitioning. The recursion is completed when the subset at a node all has the same value of the target variable, or when splitting no longer adds value to the predictions.\n",
    "\n",
    "Due to Decision trees can handle high dimensional data and in general decision tree classifier has good accuracy, we are going to begin by test this model because the construction of decision tree classifier does not require any domain knowledge or parameter setting, and therefore is appropriate for exploratory knowledge discovery."
   ]
  },
  {
   "cell_type": "markdown",
   "metadata": {},
   "source": [
    "###### So we are going to test the model of decision tree:"
   ]
  },
  {
   "cell_type": "code",
   "execution_count": 34,
   "metadata": {},
   "outputs": [
    {
     "data": {
      "text/plain": [
       "DecisionTreeClassifier()"
      ]
     },
     "execution_count": 34,
     "metadata": {},
     "output_type": "execute_result"
    }
   ],
   "source": [
    "model_0 = DecisionTreeClassifier()\n",
    "model_0.fit(X_train, y_train)"
   ]
  },
  {
   "cell_type": "code",
   "execution_count": 35,
   "metadata": {},
   "outputs": [
    {
     "name": "stdout",
     "output_type": "stream",
     "text": [
      "f1_score for train data :  1.0\n",
      "roc_auc for train data :  1.0\n",
      "average_precision train data :  1.0\n",
      "accuracy train data :  1.0\n",
      "precision train data :  1.0\n",
      "recall train data :  1.0\n"
     ]
    }
   ],
   "source": [
    "y_pred = model_0.predict(X_train)\n",
    "print('f1_score for train data : ',metrics.f1_score(y_train, y_pred))\n",
    "print('roc_auc for train data : ',metrics.roc_auc_score(y_train, y_pred))\n",
    "print('average_precision train data : ',metrics.average_precision_score(y_train, y_pred))\n",
    "print('accuracy train data : ',metrics.accuracy_score(y_train, y_pred))\n",
    "print('precision train data : ',metrics.precision_score(y_train, y_pred))\n",
    "print('recall train data : ',metrics.recall_score(y_train, y_pred))"
   ]
  },
  {
   "cell_type": "code",
   "execution_count": 36,
   "metadata": {},
   "outputs": [
    {
     "name": "stdout",
     "output_type": "stream",
     "text": [
      "f1_score for test data :  0.7741935483870969\n",
      "roc_auc for test data :  0.7623783783783784\n",
      "average_precision test data :  0.722295990078545\n",
      "accuracy test data :  0.7627118644067796\n",
      "precision test data :  0.7804878048780488\n",
      "recall test data :  0.768\n"
     ]
    }
   ],
   "source": [
    "y_pred = model_0.predict(X_test)\n",
    "print('f1_score for test data : ',metrics.f1_score(y_test, y_pred))\n",
    "print('roc_auc for test data : ',metrics.roc_auc_score(y_test, y_pred))\n",
    "print('average_precision test data : ',metrics.average_precision_score(y_test, y_pred))\n",
    "print('accuracy test data : ',metrics.accuracy_score(y_test, y_pred))\n",
    "print('precision test data : ',metrics.precision_score(y_test, y_pred))\n",
    "print('recall test data : ',metrics.recall_score(y_test, y_pred))"
   ]
  },
  {
   "cell_type": "markdown",
   "metadata": {},
   "source": [
    "After running this first model we have been able to observe that the accuracy of the model is 0.75; which is a good score to start ; however it is necessary to improve it a little more.\n",
    "\n",
    "Thanks to ours resultats we observed Decision trees are able to generate understandable rules and perform classification without requiring much computation.\n",
    "\n",
    "Althought Decision trees are able to handle both continuous and categorical variables. Decision trees provide a clear indication of which fields are most important for prediction or classification."
   ]
  },
  {
   "cell_type": "markdown",
   "metadata": {},
   "source": [
    "###### Notice "
   ]
  },
  {
   "cell_type": "markdown",
   "metadata": {},
   "source": [
    "Then when using a decision tree model on a given training dataset the accuracy keeps improving with more and more splits. So we can easily overfit the data and doesn't know when you have crossed the line unless you are using cross validation (on training data set).\n",
    "\n",
    "However the advantage of a simple decision tree is model is easy to interpret, you know what variable and what value of that variable is used to split the data and predict outcome.\n",
    "\n",
    "While a random forest is like a black box and works as mentioned in above answer. It's a forest you can build and control the number of trees you want and specify max num of features to be used in each tree But you cannot control the randomness, you cannot control which feature is part of which tree in the forest\n",
    "\n",
    "So if we apply the Random Forest the accuracy will increase because this will reduce variance part of error rather than bias part, so on a given training data set decision tree may be more accurate than a random forest. But on an unexpected validation data set, Random forest always wins in terms of accuracy.\n",
    "\n",
    "Then we are going this model in the following classifier"
   ]
  },
  {
   "cell_type": "markdown",
   "metadata": {},
   "source": [
    "##### Classifier 2:  Random Forest"
   ]
  },
  {
   "cell_type": "markdown",
   "metadata": {},
   "source": [
    "In this case we are going to apply Random forest,which consists of a large number of individual decision trees that operate as an ensemble and  \n",
    "each individual tree in the random forest spits out a class prediction and the class with the most votes becomes our model’s prediction .\n",
    "Each individual tree to try to create an uncorrelated forest of trees whose prediction by committee is more accurate than that of any individual tree.\n",
    "\n",
    "However the fundamental concept behind random forest is a simple but powerful one — the wisdom of crowds. In data science speak, the reason that the random forest model works so well is:\n",
    "A large number of relatively uncorrelated models (trees) operating as a committee will outperform any of the individual constituent models.\n",
    "\n",
    "For this reason  is that the trees protect each other from their individual errors (as long as they don’t constantly all err in the same direction). While some trees may be wrong, many other trees will be right, so as a group the trees are able to move in the correct direction. "
   ]
  },
  {
   "cell_type": "markdown",
   "metadata": {},
   "source": [
    "######  Random Forest without parameters"
   ]
  },
  {
   "cell_type": "code",
   "execution_count": 37,
   "metadata": {},
   "outputs": [
    {
     "data": {
      "text/plain": [
       "RandomForestClassifier()"
      ]
     },
     "execution_count": 37,
     "metadata": {},
     "output_type": "execute_result"
    }
   ],
   "source": [
    "rfc = RandomForestClassifier()\n",
    "rfc.fit(X_train, y_train)"
   ]
  },
  {
   "cell_type": "code",
   "execution_count": 38,
   "metadata": {},
   "outputs": [
    {
     "name": "stdout",
     "output_type": "stream",
     "text": [
      "f1_score for train data :  1.0\n",
      "roc_auc for train data :  1.0\n",
      "average_precision train data :  1.0\n",
      "accuracy train data :  1.0\n",
      "precision train data :  1.0\n",
      "recall train data :  1.0\n"
     ]
    }
   ],
   "source": [
    "y_pred = rfc.predict(X_train)\n",
    "print('f1_score for train data : ',metrics.f1_score(y_train, y_pred))\n",
    "print('roc_auc for train data : ',metrics.roc_auc_score(y_train, y_pred))\n",
    "print('average_precision train data : ',metrics.average_precision_score(y_train, y_pred))\n",
    "print('accuracy train data : ',metrics.accuracy_score(y_train, y_pred))\n",
    "print('precision train data : ',metrics.precision_score(y_train, y_pred))\n",
    "print('recall train data : ',metrics.recall_score(y_train, y_pred))"
   ]
  },
  {
   "cell_type": "code",
   "execution_count": 39,
   "metadata": {},
   "outputs": [
    {
     "name": "stdout",
     "output_type": "stream",
     "text": [
      "f1_score for test data :  0.8392156862745097\n",
      "roc_auc for test data :  0.8243963963963964\n",
      "average_precision test data :  0.7808250325945241\n",
      "accuracy test data :  0.826271186440678\n",
      "precision test data :  0.823076923076923\n",
      "recall test data :  0.856\n"
     ]
    }
   ],
   "source": [
    "y_pred = rfc.predict(X_test)\n",
    "print('f1_score for test data : ',metrics.f1_score(y_test, y_pred))\n",
    "print('roc_auc for test data : ',metrics.roc_auc_score(y_test, y_pred))\n",
    "print('average_precision test data : ',metrics.average_precision_score(y_test, y_pred))\n",
    "print('accuracy test data : ',metrics.accuracy_score(y_test, y_pred))\n",
    "print('precision test data : ',metrics.precision_score(y_test, y_pred))\n",
    "print('recall test data : ',metrics.recall_score(y_test, y_pred))"
   ]
  },
  {
   "cell_type": "markdown",
   "metadata": {},
   "source": [
    "After running this first model we have been able to observe that the accuracy of the model is 0.824; which is a good score better than the previous; however it is necessary to improve it a little more."
   ]
  },
  {
   "cell_type": "markdown",
   "metadata": {},
   "source": [
    "##### How to improve the accuracy of random forest?"
   ]
  },
  {
   "cell_type": "markdown",
   "metadata": {},
   "source": [
    "To improve the score of our model there are 8 ways to improve it: \n",
    "1. **Add more data**\n",
    "2. **Treat missing and Outlier values**\n",
    "3. **Feature Engineering**\n",
    "4. **Feature Selection**\n",
    "5. **Multiple algorithms**\n",
    "6. **Algorithm Tuning**\n",
    "7. **Ensemble methods.**\n",
    "8. **Cross Validation**\n",
    "\n",
    "However throughout this challenge we have relied on three methods to boost the accuracy of a model which are the tuning algorithm, the ensemble models and cross validation."
   ]
  },
  {
   "cell_type": "markdown",
   "metadata": {},
   "source": [
    "###### IMPROVING OF SCORE RANDOM FOREST WITH  HYPERPARAMETERS"
   ]
  },
  {
   "cell_type": "markdown",
   "metadata": {},
   "source": [
    "After our first random forest test without parameters we decided to look for an algorithm that would be able to find the performing parameters which give us the best accuracy in Random Forest"
   ]
  },
  {
   "cell_type": "code",
   "execution_count": 41,
   "metadata": {
    "scrolled": true
   },
   "outputs": [
    {
     "name": "stdout",
     "output_type": "stream",
     "text": [
      "GridSearchCV for RandomForestClassifier\n",
      "Fitting 5 folds for each of 2052 candidates, totalling 10260 fits\n"
     ]
    },
    {
     "name": "stderr",
     "output_type": "stream",
     "text": [
      "D:\\anconda\\lib\\site-packages\\sklearn\\model_selection\\_search.py:918: UserWarning: One or more of the test scores are non-finite: [0.68001518 0.69715117 0.706961   ...        nan        nan        nan]\n",
      "  warnings.warn(\n"
     ]
    },
    {
     "data": {
      "text/plain": [
       "GridSearchCV(cv=StratifiedKFold(n_splits=5, random_state=None, shuffle=False),\n",
       "             estimator=RandomForestClassifier(), n_jobs=-1,\n",
       "             param_grid={'class_weight': ['balanced', 'unbalanced'],\n",
       "                         'criterion': ['gini', 'entropy'],\n",
       "                         'max_depth': [1, 2, 3, 4, 5, 6, 7, 8, 9],\n",
       "                         'max_features': ['auto', 'sqrt', 'log2'],\n",
       "                         'n_estimators': [1, 2, 3, 4, 5, 6, 7, 8, 9, 10, 11, 12,\n",
       "                                          13, 14, 15, 16, 17, 18, 19]},\n",
       "             scoring='f1', verbose=True)"
      ]
     },
     "execution_count": 41,
     "metadata": {},
     "output_type": "execute_result"
    }
   ],
   "source": [
    "# GridSearchCV for RandomForestClassifier\n",
    "print(\"GridSearchCV for RandomForestClassifier\")\n",
    "# Create param grid.\n",
    "param_grid = {\n",
    "    'n_estimators' : list(range(1,20)),\n",
    "    'max_depth' : list(range(1,10)), \n",
    "    'class_weight': ['balanced','unbalanced'],\n",
    "    'max_features': ['auto', 'sqrt', 'log2'],\n",
    "    'criterion':['gini', 'entropy']\n",
    "    }\n",
    "scv = StratifiedKFold(n_splits=5)\n",
    "rfc_1 = GridSearchCV(rfc,param_grid = param_grid, scoring = 'f1', cv = scv, verbose=True, n_jobs=-1)\n",
    "best_rfc_1 = rfc_1.fit(X_train, y_train)\n",
    "best_rfc_1\n"
   ]
  },
  {
   "cell_type": "markdown",
   "metadata": {},
   "source": [
    "After the application of the search algorithm we have been able to find the parameters that make our model perform better at Random Forest."
   ]
  },
  {
   "cell_type": "code",
   "execution_count": 42,
   "metadata": {},
   "outputs": [
    {
     "name": "stdout",
     "output_type": "stream",
     "text": [
      "Best parameter (CV f1 random forest score=0.834):\n",
      "Best model:\n",
      " {'class_weight': 'balanced', 'criterion': 'entropy', 'max_depth': 9, 'max_features': 'log2', 'n_estimators': 16}\n"
     ]
    }
   ],
   "source": [
    "print(\"Best parameter (CV f1 random forest score=%0.3f):\" % best_rfc_1.best_score_)\n",
    "\n",
    "print(\"Best model:\\n\", best_rfc_1.best_params_)"
   ]
  },
  {
   "cell_type": "code",
   "execution_count": 43,
   "metadata": {},
   "outputs": [
    {
     "data": {
      "text/plain": [
       "RandomForestClassifier(class_weight='balanced', criterion='entropy',\n",
       "                       max_depth=9, max_features='log2', n_estimators=16,\n",
       "                       random_state=0)"
      ]
     },
     "execution_count": 43,
     "metadata": {},
     "output_type": "execute_result"
    }
   ],
   "source": [
    "rfc = RandomForestClassifier(random_state=0,class_weight='balanced',\n",
    "                             criterion= 'entropy',max_depth= 9,max_features='log2',n_estimators= 16)\n",
    "rfc.fit(X_train, y_train)"
   ]
  },
  {
   "cell_type": "code",
   "execution_count": 44,
   "metadata": {},
   "outputs": [
    {
     "name": "stdout",
     "output_type": "stream",
     "text": [
      "f1_score for train data :  0.9516678012253234\n",
      "roc_auc for train data :  0.9508089098717971\n",
      "average_precision train data :  0.9414104037749791\n",
      "accuracy train data :  0.9497523000707714\n",
      "precision train data :  0.9708333333333333\n",
      "recall train data :  0.9332443257676902\n"
     ]
    }
   ],
   "source": [
    "y_pred = rfc.predict(X_train)\n",
    "print('f1_score for train data : ',metrics.f1_score(y_train, y_pred))\n",
    "print('roc_auc for train data : ',metrics.roc_auc_score(y_train, y_pred))\n",
    "print('average_precision train data : ',metrics.average_precision_score(y_train, y_pred))\n",
    "print('accuracy train data : ',metrics.accuracy_score(y_train, y_pred))\n",
    "print('precision train data : ',metrics.precision_score(y_train, y_pred))\n",
    "print('recall train data : ',metrics.recall_score(y_train, y_pred))"
   ]
  },
  {
   "cell_type": "code",
   "execution_count": 45,
   "metadata": {},
   "outputs": [
    {
     "name": "stdout",
     "output_type": "stream",
     "text": [
      "f1_score for test data :  0.8286852589641432\n",
      "roc_auc for test data :  0.8169009009009008\n",
      "average_precision test data :  0.7757132095776162\n",
      "accuracy test data :  0.8177966101694916\n",
      "precision test data :  0.8253968253968254\n",
      "recall test data :  0.832\n"
     ]
    }
   ],
   "source": [
    "y_pred = rfc.predict(X_test)\n",
    "print('f1_score for test data : ',metrics.f1_score(y_test, y_pred))\n",
    "print('roc_auc for test data : ',metrics.roc_auc_score(y_test, y_pred))\n",
    "print('average_precision test data : ',metrics.average_precision_score(y_test, y_pred))\n",
    "print('accuracy test data : ',metrics.accuracy_score(y_test, y_pred))\n",
    "print('precision test data : ',metrics.precision_score(y_test, y_pred))\n",
    "print('recall test data : ',metrics.recall_score(y_test, y_pred))"
   ]
  },
  {
   "cell_type": "code",
   "execution_count": 46,
   "metadata": {},
   "outputs": [
    {
     "name": "stdout",
     "output_type": "stream",
     "text": [
      "losses prediction  :  0.18220338983050846\n",
      "confusion_matrix :\n"
     ]
    },
    {
     "data": {
      "text/plain": [
       "array([[178,  44],\n",
       "       [ 42, 208]], dtype=int64)"
      ]
     },
     "execution_count": 46,
     "metadata": {},
     "output_type": "execute_result"
    }
   ],
   "source": [
    "# Confusion matrix \n",
    "c=confusion_matrix(y_test, y_pred)\n",
    "print(\"losses prediction  : \",(c[1][0] +(c[0][1]))/len(y_test))\n",
    "print(\"confusion_matrix :\")\n",
    "c"
   ]
  },
  {
   "cell_type": "markdown",
   "metadata": {},
   "source": [
    "We increase some performances and if we widen the parameters we can have a better result."
   ]
  },
  {
   "cell_type": "markdown",
   "metadata": {},
   "source": [
    "##### Classifier 2: Neural Network classifier"
   ]
  },
  {
   "cell_type": "code",
   "execution_count": 48,
   "metadata": {},
   "outputs": [
    {
     "name": "stdout",
     "output_type": "stream",
     "text": [
      "45/45 [==============================] - 1s 2ms/step - loss: 0.6302 - accuracy: 0.6265\n",
      "accuracy: 78.81%\n"
     ]
    }
   ],
   "source": [
    "# create model\n",
    "model = Sequential()\n",
    "model.add(Dense(16, input_dim=12, activation='relu'))\n",
    "\n",
    "model.add(Dense(16, activation='relu'))\n",
    "model.add(Dense(1, activation='sigmoid'))\n",
    "# Compile model\n",
    "model.compile(loss='binary_crossentropy', optimizer='adam', metrics=['accuracy'])\n",
    "model.fit(X_train, y_train)\n",
    "scores = model.evaluate(X_test, y_test, verbose=0)\n",
    "print(\"%s: %.2f%%\" % (model.metrics_names[1], scores[1]*100))"
   ]
  },
  {
   "cell_type": "markdown",
   "metadata": {},
   "source": [
    "### II-3.Multiclass Classfication "
   ]
  },
  {
   "cell_type": "markdown",
   "metadata": {},
   "source": [
    "**Problem which can be solved: Seven class classifications **"
   ]
  },
  {
   "cell_type": "code",
   "execution_count": 49,
   "metadata": {},
   "outputs": [
    {
     "data": {
      "text/html": [
       "<div>\n",
       "<style scoped>\n",
       "    .dataframe tbody tr th:only-of-type {\n",
       "        vertical-align: middle;\n",
       "    }\n",
       "\n",
       "    .dataframe tbody tr th {\n",
       "        vertical-align: top;\n",
       "    }\n",
       "\n",
       "    .dataframe thead th {\n",
       "        text-align: right;\n",
       "    }\n",
       "</style>\n",
       "<table border=\"1\" class=\"dataframe\">\n",
       "  <thead>\n",
       "    <tr style=\"text-align: right;\">\n",
       "      <th></th>\n",
       "      <th>Age</th>\n",
       "      <th>Gender</th>\n",
       "      <th>Education</th>\n",
       "      <th>Country</th>\n",
       "      <th>Ethnicity</th>\n",
       "      <th>Neuroticism</th>\n",
       "      <th>Extraversion</th>\n",
       "      <th>Openness</th>\n",
       "      <th>Agreeableness</th>\n",
       "      <th>Conscientiousness</th>\n",
       "      <th>Impulsiveness</th>\n",
       "      <th>Sensation_seeking</th>\n",
       "      <th>Cannabis</th>\n",
       "    </tr>\n",
       "  </thead>\n",
       "  <tbody>\n",
       "    <tr>\n",
       "      <th>0</th>\n",
       "      <td>0.49788</td>\n",
       "      <td>0.48246</td>\n",
       "      <td>-0.05921</td>\n",
       "      <td>0.96082</td>\n",
       "      <td>0.12600</td>\n",
       "      <td>0.31287</td>\n",
       "      <td>-0.57545</td>\n",
       "      <td>-0.58331</td>\n",
       "      <td>-0.91699</td>\n",
       "      <td>-0.00665</td>\n",
       "      <td>-0.21712</td>\n",
       "      <td>-1.18084</td>\n",
       "      <td>CL0</td>\n",
       "    </tr>\n",
       "    <tr>\n",
       "      <th>1</th>\n",
       "      <td>-0.07854</td>\n",
       "      <td>-0.48246</td>\n",
       "      <td>1.98437</td>\n",
       "      <td>0.96082</td>\n",
       "      <td>-0.31685</td>\n",
       "      <td>-0.67825</td>\n",
       "      <td>1.93886</td>\n",
       "      <td>1.43533</td>\n",
       "      <td>0.76096</td>\n",
       "      <td>-0.14277</td>\n",
       "      <td>-0.71126</td>\n",
       "      <td>-0.21575</td>\n",
       "      <td>CL4</td>\n",
       "    </tr>\n",
       "    <tr>\n",
       "      <th>2</th>\n",
       "      <td>0.49788</td>\n",
       "      <td>-0.48246</td>\n",
       "      <td>-0.05921</td>\n",
       "      <td>0.96082</td>\n",
       "      <td>-0.31685</td>\n",
       "      <td>-0.46725</td>\n",
       "      <td>0.80523</td>\n",
       "      <td>-0.84732</td>\n",
       "      <td>-1.62090</td>\n",
       "      <td>-1.01450</td>\n",
       "      <td>-1.37983</td>\n",
       "      <td>0.40148</td>\n",
       "      <td>CL3</td>\n",
       "    </tr>\n",
       "    <tr>\n",
       "      <th>3</th>\n",
       "      <td>-0.95197</td>\n",
       "      <td>0.48246</td>\n",
       "      <td>1.16365</td>\n",
       "      <td>0.96082</td>\n",
       "      <td>-0.31685</td>\n",
       "      <td>-0.14882</td>\n",
       "      <td>-0.80615</td>\n",
       "      <td>-0.01928</td>\n",
       "      <td>0.59042</td>\n",
       "      <td>0.58489</td>\n",
       "      <td>-1.37983</td>\n",
       "      <td>-1.18084</td>\n",
       "      <td>CL2</td>\n",
       "    </tr>\n",
       "    <tr>\n",
       "      <th>4</th>\n",
       "      <td>0.49788</td>\n",
       "      <td>0.48246</td>\n",
       "      <td>1.98437</td>\n",
       "      <td>0.96082</td>\n",
       "      <td>-0.31685</td>\n",
       "      <td>0.73545</td>\n",
       "      <td>-1.63340</td>\n",
       "      <td>-0.45174</td>\n",
       "      <td>-0.30172</td>\n",
       "      <td>1.30612</td>\n",
       "      <td>-0.21712</td>\n",
       "      <td>-0.21575</td>\n",
       "      <td>CL3</td>\n",
       "    </tr>\n",
       "  </tbody>\n",
       "</table>\n",
       "</div>"
      ],
      "text/plain": [
       "       Age   Gender  Education  Country  Ethnicity  Neuroticism  Extraversion  \\\n",
       "0  0.49788  0.48246   -0.05921  0.96082    0.12600      0.31287      -0.57545   \n",
       "1 -0.07854 -0.48246    1.98437  0.96082   -0.31685     -0.67825       1.93886   \n",
       "2  0.49788 -0.48246   -0.05921  0.96082   -0.31685     -0.46725       0.80523   \n",
       "3 -0.95197  0.48246    1.16365  0.96082   -0.31685     -0.14882      -0.80615   \n",
       "4  0.49788  0.48246    1.98437  0.96082   -0.31685      0.73545      -1.63340   \n",
       "\n",
       "   Openness  Agreeableness  Conscientiousness  Impulsiveness  \\\n",
       "0  -0.58331       -0.91699           -0.00665       -0.21712   \n",
       "1   1.43533        0.76096           -0.14277       -0.71126   \n",
       "2  -0.84732       -1.62090           -1.01450       -1.37983   \n",
       "3  -0.01928        0.59042            0.58489       -1.37983   \n",
       "4  -0.45174       -0.30172            1.30612       -0.21712   \n",
       "\n",
       "   Sensation_seeking Cannabis  \n",
       "0           -1.18084      CL0  \n",
       "1           -0.21575      CL4  \n",
       "2            0.40148      CL3  \n",
       "3           -1.18084      CL2  \n",
       "4           -0.21575      CL3  "
      ]
     },
     "execution_count": 49,
     "metadata": {},
     "output_type": "execute_result"
    }
   ],
   "source": [
    "multi_df=df.copy()\n",
    "multi_df.head()"
   ]
  },
  {
   "cell_type": "code",
   "execution_count": 50,
   "metadata": {},
   "outputs": [],
   "source": [
    "def cat_to_num(x):\n",
    "    \n",
    "    if (x == 'CL0') :\n",
    "        x = 0\n",
    "    if (x == 'CL1') :\n",
    "        x = 1\n",
    "    if (x == 'CL2') :\n",
    "        x = 2\n",
    "    if (x == 'CL3') :\n",
    "        x = 3\n",
    "    if (x == 'CL4') :\n",
    "        x = 4\n",
    "    if (x == 'CL5') :\n",
    "        x = 5\n",
    "    if (x == 'CL6') :\n",
    "        x = 6\n",
    "    return x"
   ]
  },
  {
   "cell_type": "code",
   "execution_count": 51,
   "metadata": {},
   "outputs": [],
   "source": [
    "multi_df['Cannabis'] = multi_df['Cannabis'].map(cat_to_num)"
   ]
  },
  {
   "cell_type": "code",
   "execution_count": 52,
   "metadata": {},
   "outputs": [],
   "source": [
    "y = multi_df['Cannabis']\n",
    "X = multi_df.drop(['Cannabis'], axis=1)"
   ]
  },
  {
   "cell_type": "code",
   "execution_count": 53,
   "metadata": {},
   "outputs": [],
   "source": [
    "X_train, X_test, y_train, y_test = train_test_split(X, y, test_size = 0.25, random_state = 42, stratify=y)\n",
    "X_train = StandardScaler().fit_transform(X_train)\n",
    "X_test = StandardScaler().fit_transform(X_test)"
   ]
  },
  {
   "cell_type": "markdown",
   "metadata": {},
   "source": [
    "#### ML Models For Multiclass Classfication"
   ]
  },
  {
   "cell_type": "code",
   "execution_count": 54,
   "metadata": {},
   "outputs": [
    {
     "data": {
      "text/plain": [
       "DummyClassifier(strategy='most_frequent')"
      ]
     },
     "execution_count": 54,
     "metadata": {},
     "output_type": "execute_result"
    }
   ],
   "source": [
    "from sklearn.dummy import DummyClassifier\n",
    "dummy_clf = DummyClassifier(strategy=\"most_frequent\")\n",
    "dummy_clf.fit(X, y)"
   ]
  },
  {
   "cell_type": "code",
   "execution_count": 55,
   "metadata": {},
   "outputs": [
    {
     "name": "stdout",
     "output_type": "stream",
     "text": [
      "accuracy test data :  0.2457627118644068\n"
     ]
    }
   ],
   "source": [
    "y_pred =dummy_clf.predict(X_test)\n",
    "print('accuracy test data : ',metrics.accuracy_score(y_test, y_pred))"
   ]
  },
  {
   "cell_type": "markdown",
   "metadata": {},
   "source": [
    "##### Classifier 1 : Random Forest"
   ]
  },
  {
   "cell_type": "code",
   "execution_count": 56,
   "metadata": {},
   "outputs": [
    {
     "data": {
      "text/plain": [
       "RandomForestClassifier()"
      ]
     },
     "execution_count": 56,
     "metadata": {},
     "output_type": "execute_result"
    }
   ],
   "source": [
    "rfc = RandomForestClassifier()\n",
    "rfc.fit(X_train, y_train)"
   ]
  },
  {
   "cell_type": "code",
   "execution_count": 57,
   "metadata": {},
   "outputs": [
    {
     "name": "stdout",
     "output_type": "stream",
     "text": [
      "accuracy train data :  1.0\n",
      "accuracy test data :  0.3919491525423729\n"
     ]
    }
   ],
   "source": [
    "y_pred = rfc.predict(X_train)\n",
    "print('accuracy train data : ',metrics.accuracy_score(y_train, y_pred))\n",
    "y_pred = rfc.predict(X_test)\n",
    "print('accuracy test data : ',metrics.accuracy_score(y_test, y_pred))"
   ]
  },
  {
   "cell_type": "code",
   "execution_count": 58,
   "metadata": {},
   "outputs": [
    {
     "data": {
      "text/plain": [
       "array([[66,  9, 14,  4,  0,  1,  9],\n",
       "       [31,  8,  7,  0,  0,  1,  5],\n",
       "       [28,  3, 10,  1,  0,  2, 23],\n",
       "       [ 6,  1,  6,  4,  0,  4, 32],\n",
       "       [ 4,  1,  4,  1,  0,  2, 23],\n",
       "       [ 3,  1,  7,  1,  0,  2, 32],\n",
       "       [ 2,  3,  6,  6,  0,  4, 95]], dtype=int64)"
      ]
     },
     "execution_count": 58,
     "metadata": {},
     "output_type": "execute_result"
    }
   ],
   "source": [
    "confusion_matrix(y_test, y_pred)"
   ]
  },
  {
   "cell_type": "code",
   "execution_count": 59,
   "metadata": {},
   "outputs": [
    {
     "name": "stdout",
     "output_type": "stream",
     "text": [
      "GridSearchCV for RandomForestClassifier\n",
      "Fitting 5 folds for each of 1026 candidates, totalling 5130 fits\n"
     ]
    },
    {
     "data": {
      "text/plain": [
       "GridSearchCV(cv=StratifiedKFold(n_splits=5, random_state=None, shuffle=False),\n",
       "             estimator=RandomForestClassifier(), n_jobs=-1,\n",
       "             param_grid={'class_weight': ['balanced'],\n",
       "                         'criterion': ['gini', 'entropy'],\n",
       "                         'max_depth': [1, 2, 3, 4, 5, 6, 7, 8, 9],\n",
       "                         'max_features': ['auto', 'sqrt', 'log2'],\n",
       "                         'n_estimators': [1, 2, 3, 4, 5, 6, 7, 8, 9, 10, 11, 12,\n",
       "                                          13, 14, 15, 16, 17, 18, 19]},\n",
       "             verbose=True)"
      ]
     },
     "execution_count": 59,
     "metadata": {},
     "output_type": "execute_result"
    }
   ],
   "source": [
    "# GridSearchCV for RandomForestClassifier\n",
    "print(\"GridSearchCV for RandomForestClassifier\")\n",
    "# Create param grid.\n",
    "param_grid = {\n",
    "    'n_estimators' : list(range(1,20)),\n",
    "    'max_depth' : list(range(1,10)), \n",
    "    'class_weight': ['balanced'],\n",
    "    'max_features': ['auto', 'sqrt', 'log2'],\n",
    "    'criterion':['gini', 'entropy']\n",
    "    }\n",
    "scv = StratifiedKFold(n_splits=5)\n",
    "rfc_grid = GridSearchCV(rfc,param_grid = param_grid, cv = scv, verbose=True, n_jobs=-1)\n",
    "best_rfc_grid = rfc_grid.fit(X_train, y_train)\n",
    "best_rfc_grid"
   ]
  },
  {
   "cell_type": "code",
   "execution_count": 61,
   "metadata": {},
   "outputs": [
    {
     "name": "stdout",
     "output_type": "stream",
     "text": [
      "Best parameter (CV f1 random forest score=0.362):\n",
      "Best model:\n",
      " {'class_weight': 'balanced', 'criterion': 'entropy', 'max_depth': 9, 'max_features': 'sqrt', 'n_estimators': 17}\n"
     ]
    }
   ],
   "source": [
    "print(\"Best parameter (CV f1 random forest score=%0.3f):\" % best_rfc_grid.best_score_)\n",
    "\n",
    "print(\"Best model:\\n\", best_rfc_grid.best_params_)"
   ]
  },
  {
   "cell_type": "code",
   "execution_count": 62,
   "metadata": {},
   "outputs": [
    {
     "data": {
      "text/plain": [
       "RandomForestClassifier(class_weight='balanced', criterion='entropy',\n",
       "                       max_depth=9, max_features='sqrt', n_estimators=17,\n",
       "                       random_state=0)"
      ]
     },
     "execution_count": 62,
     "metadata": {},
     "output_type": "execute_result"
    }
   ],
   "source": [
    "rfc = RandomForestClassifier(random_state=0,class_weight='balanced',\n",
    "                             criterion= 'entropy',max_depth=9,max_features='sqrt',n_estimators= 17)\n",
    "rfc.fit(X_train, y_train)"
   ]
  },
  {
   "cell_type": "code",
   "execution_count": 63,
   "metadata": {},
   "outputs": [
    {
     "name": "stdout",
     "output_type": "stream",
     "text": [
      "accuracy train data :  0.8995046001415428\n",
      "accuracy test data :  0.3389830508474576\n"
     ]
    }
   ],
   "source": [
    "y_pred = rfc.predict(X_train)\n",
    "print('accuracy train data : ',metrics.accuracy_score(y_train, y_pred))\n",
    "y_pred = rfc.predict(X_test)\n",
    "print('accuracy test data : ',metrics.accuracy_score(y_test, y_pred))"
   ]
  },
  {
   "cell_type": "markdown",
   "metadata": {},
   "source": [
    "##### Classifier 2 : MLPClassifier\n"
   ]
  },
  {
   "cell_type": "code",
   "execution_count": 64,
   "metadata": {},
   "outputs": [
    {
     "name": "stderr",
     "output_type": "stream",
     "text": [
      "D:\\anconda\\lib\\site-packages\\sklearn\\neural_network\\_multilayer_perceptron.py:614: ConvergenceWarning: Stochastic Optimizer: Maximum iterations (200) reached and the optimization hasn't converged yet.\n",
      "  warnings.warn(\n"
     ]
    },
    {
     "data": {
      "text/plain": [
       "MLPClassifier()"
      ]
     },
     "execution_count": 64,
     "metadata": {},
     "output_type": "execute_result"
    }
   ],
   "source": [
    "from sklearn.neural_network import MLPClassifier\n",
    "mlp = MLPClassifier()\n",
    "mlp.fit(X_train, y_train)\n"
   ]
  },
  {
   "cell_type": "code",
   "execution_count": 65,
   "metadata": {},
   "outputs": [
    {
     "name": "stdout",
     "output_type": "stream",
     "text": [
      "accuracy train data :  0.5159235668789809\n",
      "accuracy test data :  0.4216101694915254\n"
     ]
    }
   ],
   "source": [
    "y_pred = mlp.predict(X_train)\n",
    "print('accuracy train data : ',metrics.accuracy_score(y_train, y_pred))\n",
    "y_pred = mlp.predict(X_test)\n",
    "print('accuracy test data : ',metrics.accuracy_score(y_test, y_pred))"
   ]
  },
  {
   "cell_type": "code",
   "execution_count": 66,
   "metadata": {},
   "outputs": [
    {
     "name": "stderr",
     "output_type": "stream",
     "text": [
      "D:\\anconda\\lib\\site-packages\\sklearn\\neural_network\\_multilayer_perceptron.py:614: ConvergenceWarning: Stochastic Optimizer: Maximum iterations (200) reached and the optimization hasn't converged yet.\n",
      "  warnings.warn(\n"
     ]
    },
    {
     "data": {
      "text/plain": [
       "GridSearchCV(cv=5, estimator=MLPClassifier(), n_jobs=-1,\n",
       "             param_grid={'activation': ['tanh', 'relu'],\n",
       "                         'alpha': [0.0001, 0.05],\n",
       "                         'hidden_layer_sizes': [(10, 30, 10), (20,)],\n",
       "                         'learning_rate': ['constant', 'adaptive'],\n",
       "                         'solver': ['sgd', 'adam']})"
      ]
     },
     "execution_count": 66,
     "metadata": {},
     "output_type": "execute_result"
    }
   ],
   "source": [
    "# GridSearchCV for MLPClassifier\n",
    "parameter_space = {\n",
    "    'hidden_layer_sizes': [(10,30,10),(20,)],\n",
    "    'activation': ['tanh', 'relu'],\n",
    "    'solver': ['sgd', 'adam'],\n",
    "    'alpha': [0.0001, 0.05],\n",
    "    'learning_rate': ['constant','adaptive'],\n",
    "}\n",
    "from sklearn.model_selection import GridSearchCV\n",
    "clf = GridSearchCV(mlp, parameter_space, n_jobs=-1, cv=5)\n",
    "clf.fit(X_train, y_train) # X is train samples and y is the corresponding labels"
   ]
  },
  {
   "cell_type": "code",
   "execution_count": 68,
   "metadata": {
    "scrolled": true
   },
   "outputs": [
    {
     "name": "stdout",
     "output_type": "stream",
     "text": [
      "accuracy train data :  0.42179759377211606\n",
      "accuracy test data :  0.4173728813559322\n"
     ]
    }
   ],
   "source": [
    "y_pred = clf.predict(X_train)\n",
    "print('accuracy train data : ',metrics.accuracy_score(y_train, y_pred))\n",
    "y_pred = clf.predict(X_test)\n",
    "print('accuracy test data : ',metrics.accuracy_score(y_test, y_pred))"
   ]
  },
  {
   "cell_type": "markdown",
   "metadata": {},
   "source": [
    "##### Classifier 3 : KNeighborsClassifier\n"
   ]
  },
  {
   "cell_type": "code",
   "execution_count": 69,
   "metadata": {},
   "outputs": [
    {
     "data": {
      "text/plain": [
       "KNeighborsClassifier(n_neighbors=3)"
      ]
     },
     "execution_count": 69,
     "metadata": {},
     "output_type": "execute_result"
    }
   ],
   "source": [
    "from sklearn.neighbors import KNeighborsClassifier \n",
    "neigh = KNeighborsClassifier(n_neighbors=3)\n",
    "neigh.fit(X_train, y_train)"
   ]
  },
  {
   "cell_type": "code",
   "execution_count": 70,
   "metadata": {},
   "outputs": [
    {
     "name": "stdout",
     "output_type": "stream",
     "text": [
      "accuracy train data :  0.5966029723991507\n",
      "accuracy test data :  0.3432203389830508\n"
     ]
    }
   ],
   "source": [
    "y_pred = neigh.predict(X_train)\n",
    "print('accuracy train data : ',metrics.accuracy_score(y_train, y_pred))\n",
    "y_pred = neigh.predict(X_test)\n",
    "print('accuracy test data : ',metrics.accuracy_score(y_test, y_pred))"
   ]
  },
  {
   "cell_type": "code",
   "execution_count": 71,
   "metadata": {},
   "outputs": [
    {
     "data": {
      "text/plain": [
       "GridSearchCV(cv=StratifiedKFold(n_splits=5, random_state=None, shuffle=False),\n",
       "             estimator=KNeighborsClassifier(n_neighbors=3),\n",
       "             param_grid={'n_neighbors': [1, 2, 3, 4, 5, 6, 7, 8, 9, 10, 11, 12,\n",
       "                                         13, 14, 15, 16, 17, 18, 19, 20, 21, 22,\n",
       "                                         23, 24, 25, 26, 27, 28, 29, 30],\n",
       "                         'weights': ['uniform', 'distance']},\n",
       "             scoring='accuracy')"
      ]
     },
     "execution_count": 71,
     "metadata": {},
     "output_type": "execute_result"
    }
   ],
   "source": [
    "# GridSearchCV for KNeighborsClassifier\n",
    "k_range = list(range(1,31))\n",
    "weight_options = [\"uniform\", \"distance\"]\n",
    "scv = StratifiedKFold(n_splits=5)\n",
    "param_grid = dict(n_neighbors = k_range, weights = weight_options)\n",
    "#print (param_grid)\n",
    "grid = GridSearchCV(neigh, param_grid, cv = scv, scoring = 'accuracy')\n",
    "grid.fit(X,y)\n"
   ]
  },
  {
   "cell_type": "code",
   "execution_count": 72,
   "metadata": {},
   "outputs": [
    {
     "name": "stdout",
     "output_type": "stream",
     "text": [
      "accuracy train data :  0.5322009907997169\n",
      "accuracy test data :  0.5190677966101694\n"
     ]
    }
   ],
   "source": [
    "y_pred = grid.predict(X_train)\n",
    "print('accuracy train data : ',metrics.accuracy_score(y_train, y_pred))\n",
    "y_pred = grid.predict(X_test)\n",
    "print('accuracy test data : ',metrics.accuracy_score(y_test, y_pred))"
   ]
  },
  {
   "cell_type": "markdown",
   "metadata": {},
   "source": [
    "##### Classifier 4 : ExtraTreesClassifier"
   ]
  },
  {
   "cell_type": "code",
   "execution_count": 73,
   "metadata": {},
   "outputs": [
    {
     "data": {
      "text/plain": [
       "ExtraTreesClassifier()"
      ]
     },
     "execution_count": 73,
     "metadata": {},
     "output_type": "execute_result"
    }
   ],
   "source": [
    "from sklearn.ensemble import ExtraTreesClassifier\n",
    "extra = ExtraTreesClassifier()\n",
    "extra.fit(X_train, y_train)"
   ]
  },
  {
   "cell_type": "code",
   "execution_count": 74,
   "metadata": {},
   "outputs": [
    {
     "name": "stdout",
     "output_type": "stream",
     "text": [
      "accuracy train data :  1.0\n",
      "accuracy test data :  0.3919491525423729\n"
     ]
    }
   ],
   "source": [
    "y_pred = extra.predict(X_train)\n",
    "print('accuracy train data : ',metrics.accuracy_score(y_train, y_pred))\n",
    "y_pred = extra.predict(X_test)\n",
    "print('accuracy test data : ',metrics.accuracy_score(y_test, y_pred))"
   ]
  },
  {
   "cell_type": "code",
   "execution_count": 75,
   "metadata": {},
   "outputs": [
    {
     "name": "stdout",
     "output_type": "stream",
     "text": [
      "Fitting 3 folds for each of 972 candidates, totalling 2916 fits\n"
     ]
    },
    {
     "name": "stderr",
     "output_type": "stream",
     "text": [
      "D:\\anconda\\lib\\site-packages\\sklearn\\model_selection\\_search.py:918: UserWarning: One or more of the test scores are non-finite: [0.35244161 0.37154989 0.37721161 0.37933475 0.37933475 0.37933475\n",
      "        nan        nan        nan 0.24557679 0.24557679 0.24557679\n",
      " 0.24557679 0.24557679 0.24557679        nan        nan        nan\n",
      " 0.37721161 0.38287332 0.39561217 0.37933475 0.37933475 0.37933475\n",
      "        nan        nan        nan 0.37154989 0.39136589 0.38499646\n",
      " 0.39844303 0.40622788 0.4069356         nan        nan        nan\n",
      " 0.24557679 0.24557679 0.24557679 0.24557679 0.24557679 0.24557679\n",
      "        nan        nan        nan 0.38358103 0.41896674 0.4069356\n",
      " 0.40268931 0.39561217 0.4019816         nan        nan        nan\n",
      " 0.35314933 0.3920736  0.38924275 0.39844303 0.39490446 0.40339703\n",
      "        nan        nan        nan 0.24557679 0.24557679 0.24557679\n",
      " 0.24557679 0.24557679 0.24557679        nan        nan        nan\n",
      " 0.39561217 0.39844303 0.4118896  0.39419674 0.39631989 0.39985846\n",
      "        nan        nan        nan 0.3665959  0.37367304 0.38924275\n",
      " 0.39631989 0.40339703 0.40127389        nan        nan        nan\n",
      " 0.24557679 0.24557679 0.24557679 0.24557679 0.24557679 0.24557679\n",
      "        nan        nan        nan 0.39348903 0.41259731 0.4069356\n",
      " 0.39419674 0.3970276  0.40339703        nan        nan        nan\n",
      " 0.36588818 0.37650389 0.38216561 0.39348903 0.40339703 0.40410474\n",
      "        nan        nan        nan 0.24557679 0.24557679 0.24557679\n",
      " 0.24557679 0.24557679 0.24557679        nan        nan        nan\n",
      " 0.38287332 0.40127389 0.40410474 0.39065817 0.39985846 0.40339703\n",
      "        nan        nan        nan 0.36447275 0.37367304 0.37367304\n",
      " 0.38570418 0.38358103 0.38641189        nan        nan        nan\n",
      " 0.24557679 0.24557679 0.24557679 0.24557679 0.24557679 0.24557679\n",
      "        nan        nan        nan 0.39278132 0.38924275 0.38924275\n",
      " 0.38428875 0.38782732 0.3871196         nan        nan        nan\n",
      " 0.38428875 0.38145789 0.38287332 0.37508846 0.37933475 0.37933475\n",
      "        nan        nan        nan 0.24557679 0.24557679 0.24557679\n",
      " 0.24557679 0.24557679 0.24557679        nan        nan        nan\n",
      " 0.37933475 0.38428875 0.38075018 0.37933475 0.37933475 0.37933475\n",
      "        nan        nan        nan 0.39844303 0.40410474 0.4069356\n",
      " 0.38782732 0.40127389 0.40410474        nan        nan        nan\n",
      " 0.24557679 0.24557679 0.24557679 0.24557679 0.24557679 0.24557679\n",
      "        nan        nan        nan 0.39136589 0.39490446 0.40552017\n",
      " 0.39278132 0.40056617 0.40481246        nan        nan        nan\n",
      " 0.40552017 0.40905874 0.39631989 0.39490446 0.40410474 0.40481246\n",
      "        nan        nan        nan 0.24557679 0.24557679 0.24557679\n",
      " 0.24557679 0.24557679 0.24557679        nan        nan        nan\n",
      " 0.39631989 0.40552017 0.40622788 0.3920736  0.40481246 0.40905874\n",
      "        nan        nan        nan 0.40410474 0.4019816  0.4019816\n",
      " 0.39490446 0.39631989 0.40835103        nan        nan        nan\n",
      " 0.24557679 0.24557679 0.24557679 0.24557679 0.24557679 0.24557679\n",
      "        nan        nan        nan 0.39773531 0.40056617 0.40622788\n",
      " 0.39773531 0.39136589 0.40764331        nan        nan        nan\n",
      " 0.39773531 0.40552017 0.40410474 0.39065817 0.39915074 0.39985846\n",
      "        nan        nan        nan 0.24557679 0.24557679 0.24557679\n",
      " 0.24557679 0.24557679 0.24557679        nan        nan        nan\n",
      " 0.39561217 0.40552017 0.40622788 0.41118188 0.39985846 0.40835103\n",
      "        nan        nan        nan 0.38924275 0.39065817 0.39419674\n",
      " 0.38499646 0.38428875 0.38853503        nan        nan        nan\n",
      " 0.24557679 0.24557679 0.24557679 0.24557679 0.24557679 0.24557679\n",
      "        nan        nan        nan 0.38641189 0.38853503 0.38995046\n",
      " 0.38358103 0.38499646 0.38499646        nan        nan        nan\n",
      " 0.40764331 0.40552017 0.40835103 0.37933475 0.37933475 0.37933475\n",
      "        nan        nan        nan 0.24557679 0.24557679 0.24557679\n",
      " 0.24557679 0.24557679 0.24557679        nan        nan        nan\n",
      " 0.39561217 0.41047417 0.40481246 0.37933475 0.37933475 0.37933475\n",
      "        nan        nan        nan 0.40552017 0.40056617 0.41047417\n",
      " 0.39136589 0.4019816  0.40835103        nan        nan        nan\n",
      " 0.24557679 0.24557679 0.24557679 0.24557679 0.24557679 0.24557679\n",
      "        nan        nan        nan 0.40552017 0.40835103 0.40835103\n",
      " 0.40339703 0.40905874 0.40127389        nan        nan        nan\n",
      " 0.39985846 0.40552017 0.40835103 0.3920736  0.39561217 0.39773531\n",
      "        nan        nan        nan 0.24557679 0.24557679 0.24557679\n",
      " 0.24557679 0.24557679 0.24557679        nan        nan        nan\n",
      " 0.40552017 0.40622788 0.40764331 0.39915074 0.39985846 0.40552017\n",
      "        nan        nan        nan 0.40622788 0.40622788 0.40835103\n",
      " 0.3970276  0.40339703 0.40764331        nan        nan        nan\n",
      " 0.24557679 0.24557679 0.24557679 0.24557679 0.24557679 0.24557679\n",
      "        nan        nan        nan 0.40481246 0.39773531 0.40764331\n",
      " 0.39136589 0.39773531 0.40268931        nan        nan        nan\n",
      " 0.40056617 0.4069356  0.40835103 0.40410474 0.40339703 0.3970276\n",
      "        nan        nan        nan 0.24557679 0.24557679 0.24557679\n",
      " 0.24557679 0.24557679 0.24557679        nan        nan        nan\n",
      " 0.40481246 0.4069356  0.41047417 0.39915074 0.40410474 0.40764331\n",
      "        nan        nan        nan 0.40268931 0.4069356  0.4069356\n",
      " 0.38782732 0.38853503 0.38570418        nan        nan        nan\n",
      " 0.24557679 0.24557679 0.24557679 0.24557679 0.24557679 0.24557679\n",
      "        nan        nan        nan 0.40622788 0.40410474 0.41047417\n",
      " 0.39915074 0.38358103 0.3871196         nan        nan        nan\n",
      " 0.33828733 0.34253362 0.33404105 0.38145789 0.38075018 0.38004246\n",
      "        nan        nan        nan 0.24557679 0.24557679 0.24557679\n",
      " 0.24557679 0.24557679 0.24557679        nan        nan        nan\n",
      " 0.36942675 0.36588818 0.3665959  0.38004246 0.38287332 0.38145789\n",
      "        nan        nan        nan 0.35598018 0.37438075 0.38004246\n",
      " 0.39348903 0.3970276  0.40339703        nan        nan        nan\n",
      " 0.24557679 0.24557679 0.24557679 0.24557679 0.24557679 0.24557679\n",
      "        nan        nan        nan 0.39915074 0.4019816  0.40410474\n",
      " 0.40339703 0.40622788 0.40410474        nan        nan        nan\n",
      " 0.35598018 0.36518047 0.37650389 0.39985846 0.39348903 0.40622788\n",
      "        nan        nan        nan 0.24557679 0.24557679 0.24557679\n",
      " 0.24557679 0.24557679 0.24557679        nan        nan        nan\n",
      " 0.39348903 0.40481246 0.40339703 0.39773531 0.40552017 0.41047417\n",
      "        nan        nan        nan 0.35031847 0.35244161 0.37862703\n",
      " 0.40481246 0.40056617 0.40410474        nan        nan        nan\n",
      " 0.24557679 0.24557679 0.24557679 0.24557679 0.24557679 0.24557679\n",
      "        nan        nan        nan 0.38853503 0.40905874 0.39985846\n",
      " 0.39844303 0.40410474 0.40905874        nan        nan        nan\n",
      " 0.35810333 0.3616419  0.37579618 0.4019816  0.40339703 0.40622788\n",
      "        nan        nan        nan 0.24557679 0.24557679 0.24557679\n",
      " 0.24557679 0.24557679 0.24557679        nan        nan        nan\n",
      " 0.39065817 0.39985846 0.39844303 0.4019816  0.40339703 0.4069356\n",
      "        nan        nan        nan 0.34465676 0.36093418 0.36447275\n",
      " 0.39490446 0.39844303 0.4019816         nan        nan        nan\n",
      " 0.24557679 0.24557679 0.24557679 0.24557679 0.24557679 0.24557679\n",
      "        nan        nan        nan 0.37013447 0.37862703 0.38075018\n",
      " 0.40339703 0.38428875 0.39490446        nan        nan        nan\n",
      " 0.3871196  0.38216561 0.38428875 0.38287332 0.37933475 0.38145789\n",
      "        nan        nan        nan 0.24557679 0.24557679 0.24557679\n",
      " 0.24557679 0.24557679 0.24557679        nan        nan        nan\n",
      " 0.38641189 0.38570418 0.38358103 0.38287332 0.37933475 0.38145789\n",
      "        nan        nan        nan 0.39773531 0.40622788 0.40622788\n",
      " 0.39348903 0.40552017 0.40481246        nan        nan        nan\n",
      " 0.24557679 0.24557679 0.24557679 0.24557679 0.24557679 0.24557679\n",
      "        nan        nan        nan 0.4019816  0.3970276  0.40339703\n",
      " 0.40056617 0.40552017 0.40622788        nan        nan        nan\n",
      " 0.3970276  0.40905874 0.40339703 0.40410474 0.40127389 0.40410474\n",
      "        nan        nan        nan 0.24557679 0.24557679 0.24557679\n",
      " 0.24557679 0.24557679 0.24557679        nan        nan        nan\n",
      " 0.39561217 0.40905874 0.40622788 0.39136589 0.40056617 0.4019816\n",
      "        nan        nan        nan 0.4019816  0.40481246 0.4069356\n",
      " 0.39136589 0.40481246 0.40410474        nan        nan        nan\n",
      " 0.24557679 0.24557679 0.24557679 0.24557679 0.24557679 0.24557679\n",
      "        nan        nan        nan 0.40056617 0.39985846 0.40410474\n",
      " 0.39631989 0.40622788 0.40056617        nan        nan        nan\n",
      " 0.40268931 0.40339703 0.40622788 0.40056617 0.40127389 0.40764331\n",
      "        nan        nan        nan 0.24557679 0.24557679 0.24557679\n",
      " 0.24557679 0.24557679 0.24557679        nan        nan        nan\n",
      " 0.3970276  0.4019816  0.40552017 0.40127389 0.4069356  0.40622788\n",
      "        nan        nan        nan 0.38995046 0.39065817 0.39065817\n",
      " 0.3871196  0.40268931 0.39773531        nan        nan        nan\n",
      " 0.24557679 0.24557679 0.24557679 0.24557679 0.24557679 0.24557679\n",
      "        nan        nan        nan 0.38853503 0.3920736  0.39490446\n",
      " 0.3920736  0.39348903 0.39490446        nan        nan        nan\n",
      " 0.40339703 0.40056617 0.40622788 0.37933475 0.38216561 0.38145789\n",
      "        nan        nan        nan 0.24557679 0.24557679 0.24557679\n",
      " 0.24557679 0.24557679 0.24557679        nan        nan        nan\n",
      " 0.40764331 0.40552017 0.40268931 0.38145789 0.38287332 0.38145789\n",
      "        nan        nan        nan 0.4019816  0.4118896  0.41118188\n",
      " 0.39490446 0.40764331 0.40339703        nan        nan        nan\n",
      " 0.24557679 0.24557679 0.24557679 0.24557679 0.24557679 0.24557679\n",
      "        nan        nan        nan 0.40056617 0.41047417 0.40905874\n",
      " 0.40056617 0.40622788 0.40481246        nan        nan        nan\n",
      " 0.41047417 0.40764331 0.40905874 0.39844303 0.40835103 0.40622788\n",
      "        nan        nan        nan 0.24557679 0.24557679 0.24557679\n",
      " 0.24557679 0.24557679 0.24557679        nan        nan        nan\n",
      " 0.40622788 0.41047417 0.40835103 0.39773531 0.40410474 0.40622788\n",
      "        nan        nan        nan 0.4069356  0.40552017 0.41118188\n",
      " 0.4019816  0.39915074 0.4069356         nan        nan        nan\n",
      " 0.24557679 0.24557679 0.24557679 0.24557679 0.24557679 0.24557679\n",
      "        nan        nan        nan 0.4069356  0.40764331 0.40552017\n",
      " 0.40268931 0.40976645 0.40622788        nan        nan        nan\n",
      " 0.40764331 0.40339703 0.40622788 0.40127389 0.40268931 0.40481246\n",
      "        nan        nan        nan 0.24557679 0.24557679 0.24557679\n",
      " 0.24557679 0.24557679 0.24557679        nan        nan        nan\n",
      " 0.40056617 0.40622788 0.40552017 0.40268931 0.39985846 0.40552017\n",
      "        nan        nan        nan 0.41118188 0.40905874 0.40622788\n",
      " 0.39561217 0.39985846 0.4019816         nan        nan        nan\n",
      " 0.24557679 0.24557679 0.24557679 0.24557679 0.24557679 0.24557679\n",
      "        nan        nan        nan 0.40056617 0.40268931 0.40622788\n",
      " 0.40056617 0.39278132 0.39490446        nan        nan        nan]\n",
      "  warnings.warn(\n"
     ]
    },
    {
     "data": {
      "text/plain": [
       "GridSearchCV(cv=3, estimator=ExtraTreesClassifier(), n_jobs=-1,\n",
       "             param_grid={'bootstrap': [True, False], 'max_depth': [None, 2, 5],\n",
       "                         'max_features': [None, 'sqrt', 'auto', 'log2', 0.3,\n",
       "                                          0.5],\n",
       "                         'min_samples_leaf': [1, 0.5, 2],\n",
       "                         'min_samples_split': [2, 0.5, 1],\n",
       "                         'n_estimators': [20, 50, 100]},\n",
       "             verbose=1)"
      ]
     },
     "execution_count": 75,
     "metadata": {},
     "output_type": "execute_result"
    }
   ],
   "source": [
    "# GridSearchCV for KNeighborsClassifier\n",
    "params = {'n_estimators': [20,50,100],\n",
    "          'max_depth': [None, 2, 5,],\n",
    "          'min_samples_split': [2, 0.5,1 ],\n",
    "          'min_samples_leaf': [1, 0.5, 2 ],\n",
    "          'max_features': [None, 'sqrt', 'auto', 'log2', 0.3,0.5],\n",
    "          'bootstrap':[True, False]\n",
    "         }\n",
    "\n",
    "ef_classifier_grid = GridSearchCV(extra, param_grid=params, n_jobs=-1, cv=3, verbose=1)\n",
    "ef_classifier_grid.fit(X_train,y_train)"
   ]
  },
  {
   "cell_type": "code",
   "execution_count": 76,
   "metadata": {},
   "outputs": [
    {
     "name": "stdout",
     "output_type": "stream",
     "text": [
      "accuracy train data :  0.8209483368719037\n",
      "accuracy test data :  0.4110169491525424\n"
     ]
    }
   ],
   "source": [
    "y_pred = ef_classifier_grid.predict(X_train)\n",
    "print('accuracy train data : ',metrics.accuracy_score(y_train, y_pred))\n",
    "y_pred = ef_classifier_grid.predict(X_test)\n",
    "print('accuracy test data : ',metrics.accuracy_score(y_test, y_pred))"
   ]
  },
  {
   "cell_type": "markdown",
   "metadata": {},
   "source": [
    "##### Classifier 5 : GradientBoostingClassifier"
   ]
  },
  {
   "cell_type": "code",
   "execution_count": 77,
   "metadata": {},
   "outputs": [
    {
     "data": {
      "text/plain": [
       "GradientBoostingClassifier()"
      ]
     },
     "execution_count": 77,
     "metadata": {},
     "output_type": "execute_result"
    }
   ],
   "source": [
    "from sklearn.ensemble import GradientBoostingClassifier\n",
    "gdc = GradientBoostingClassifier()\n",
    "gdc.fit(X_train,y_train)"
   ]
  },
  {
   "cell_type": "code",
   "execution_count": 78,
   "metadata": {},
   "outputs": [
    {
     "name": "stdout",
     "output_type": "stream",
     "text": [
      "accuracy train data :  0.7438075017692852\n",
      "accuracy test data :  0.3771186440677966\n"
     ]
    }
   ],
   "source": [
    "y_pred = gdc.predict(X_train)\n",
    "print('accuracy train data : ',metrics.accuracy_score(y_train, y_pred))\n",
    "y_pred = gdc.predict(X_test)\n",
    "print('accuracy test data : ',metrics.accuracy_score(y_test, y_pred))"
   ]
  },
  {
   "cell_type": "code",
   "execution_count": 83,
   "metadata": {
    "scrolled": true
   },
   "outputs": [],
   "source": [
    "# GridSearchCV for KNeighborsClassifier\n",
    "parameters = {\n",
    "    \"loss\":[\"deviance\"],\n",
    "    \"learning_rate\": [0.01,  0.1, 0.15, 0.2],\n",
    "    \"min_samples_split\": np.linspace(0.1, 0.5,2),\n",
    "    \"min_samples_leaf\": np.linspace(0.1, 0.5,2),\n",
    "    \"max_depth\":[3,5,8],\n",
    "    \"max_features\":[\"log2\",\"sqrt\"],\n",
    "    \"n_estimators\":[3]\n",
    "    }\n",
    "\n",
    "clf = GridSearchCV(gdc, parameters, cv=10, n_jobs=-1)"
   ]
  },
  {
   "cell_type": "code",
   "execution_count": 84,
   "metadata": {},
   "outputs": [
    {
     "name": "stdout",
     "output_type": "stream",
     "text": [
      "accuracy train data :  0.4083510261854211\n",
      "accuracy test data :  0.4152542372881356\n"
     ]
    }
   ],
   "source": [
    "clf.fit(X_train, y_train)\n",
    "y_pred = clf.predict(X_train)\n",
    "print('accuracy train data : ',metrics.accuracy_score(y_train, y_pred))\n",
    "y_pred = clf.predict(X_test)\n",
    "print('accuracy test data : ',metrics.accuracy_score(y_test, y_pred))"
   ]
  },
  {
   "cell_type": "markdown",
   "metadata": {},
   "source": [
    "##### Classifier 6 : Stacking classifier"
   ]
  },
  {
   "cell_type": "code",
   "execution_count": 72,
   "metadata": {},
   "outputs": [
    {
     "name": "stderr",
     "output_type": "stream",
     "text": [
      "C:\\Users\\Moi\\anaconda3\\lib\\site-packages\\sklearn\\neural_network\\_multilayer_perceptron.py:582: ConvergenceWarning: Stochastic Optimizer: Maximum iterations (200) reached and the optimization hasn't converged yet.\n",
      "  warnings.warn(\n",
      "C:\\Users\\Moi\\anaconda3\\lib\\site-packages\\sklearn\\neural_network\\_multilayer_perceptron.py:582: ConvergenceWarning: Stochastic Optimizer: Maximum iterations (200) reached and the optimization hasn't converged yet.\n",
      "  warnings.warn(\n",
      "C:\\Users\\Moi\\anaconda3\\lib\\site-packages\\sklearn\\neural_network\\_multilayer_perceptron.py:582: ConvergenceWarning: Stochastic Optimizer: Maximum iterations (200) reached and the optimization hasn't converged yet.\n",
      "  warnings.warn(\n",
      "C:\\Users\\Moi\\anaconda3\\lib\\site-packages\\sklearn\\neural_network\\_multilayer_perceptron.py:582: ConvergenceWarning: Stochastic Optimizer: Maximum iterations (200) reached and the optimization hasn't converged yet.\n",
      "  warnings.warn(\n",
      "C:\\Users\\Moi\\anaconda3\\lib\\site-packages\\sklearn\\neural_network\\_multilayer_perceptron.py:582: ConvergenceWarning: Stochastic Optimizer: Maximum iterations (200) reached and the optimization hasn't converged yet.\n",
      "  warnings.warn(\n",
      "C:\\Users\\Moi\\anaconda3\\lib\\site-packages\\sklearn\\neural_network\\_multilayer_perceptron.py:582: ConvergenceWarning: Stochastic Optimizer: Maximum iterations (200) reached and the optimization hasn't converged yet.\n",
      "  warnings.warn(\n",
      "C:\\Users\\Moi\\anaconda3\\lib\\site-packages\\sklearn\\linear_model\\_logistic.py:762: ConvergenceWarning: lbfgs failed to converge (status=1):\n",
      "STOP: TOTAL NO. of ITERATIONS REACHED LIMIT.\n",
      "\n",
      "Increase the number of iterations (max_iter) or scale the data as shown in:\n",
      "    https://scikit-learn.org/stable/modules/preprocessing.html\n",
      "Please also refer to the documentation for alternative solver options:\n",
      "    https://scikit-learn.org/stable/modules/linear_model.html#logistic-regression\n",
      "  n_iter_i = _check_optimize_result(\n"
     ]
    },
    {
     "data": {
      "text/plain": [
       "0.4004237288135593"
      ]
     },
     "execution_count": 72,
     "metadata": {},
     "output_type": "execute_result"
    }
   ],
   "source": [
    "from sklearn.ensemble import StackingClassifier\n",
    "estimators = [('rf', rfc),('mlp', mlp),('gdc', gdc),('extra',extra),('neigh',neigh),('grid',grid)]\n",
    "\n",
    "clf = StackingClassifier( estimators=estimators, final_estimator=LogisticRegression())\n",
    "\n",
    "clf.fit(X_train, y_train).score(X_test, y_test)"
   ]
  },
  {
   "cell_type": "markdown",
   "metadata": {},
   "source": [
    "##### Classifier 6 : OneVsOneClassifier "
   ]
  },
  {
   "cell_type": "code",
   "execution_count": 73,
   "metadata": {},
   "outputs": [],
   "source": [
    "list_model=[rfc, mlp, grid]"
   ]
  },
  {
   "cell_type": "code",
   "execution_count": 74,
   "metadata": {
    "scrolled": true
   },
   "outputs": [
    {
     "name": "stdout",
     "output_type": "stream",
     "text": [
      "RandomForestClassifier()\n",
      "accuracy test data :  0.4067796610169492\n"
     ]
    },
    {
     "name": "stderr",
     "output_type": "stream",
     "text": [
      "C:\\Users\\Moi\\anaconda3\\lib\\site-packages\\sklearn\\neural_network\\_multilayer_perceptron.py:582: ConvergenceWarning: Stochastic Optimizer: Maximum iterations (200) reached and the optimization hasn't converged yet.\n",
      "  warnings.warn(\n",
      "C:\\Users\\Moi\\anaconda3\\lib\\site-packages\\sklearn\\neural_network\\_multilayer_perceptron.py:582: ConvergenceWarning: Stochastic Optimizer: Maximum iterations (200) reached and the optimization hasn't converged yet.\n",
      "  warnings.warn(\n",
      "C:\\Users\\Moi\\anaconda3\\lib\\site-packages\\sklearn\\neural_network\\_multilayer_perceptron.py:582: ConvergenceWarning: Stochastic Optimizer: Maximum iterations (200) reached and the optimization hasn't converged yet.\n",
      "  warnings.warn(\n",
      "C:\\Users\\Moi\\anaconda3\\lib\\site-packages\\sklearn\\neural_network\\_multilayer_perceptron.py:582: ConvergenceWarning: Stochastic Optimizer: Maximum iterations (200) reached and the optimization hasn't converged yet.\n",
      "  warnings.warn(\n",
      "C:\\Users\\Moi\\anaconda3\\lib\\site-packages\\sklearn\\neural_network\\_multilayer_perceptron.py:582: ConvergenceWarning: Stochastic Optimizer: Maximum iterations (200) reached and the optimization hasn't converged yet.\n",
      "  warnings.warn(\n",
      "C:\\Users\\Moi\\anaconda3\\lib\\site-packages\\sklearn\\neural_network\\_multilayer_perceptron.py:582: ConvergenceWarning: Stochastic Optimizer: Maximum iterations (200) reached and the optimization hasn't converged yet.\n",
      "  warnings.warn(\n",
      "C:\\Users\\Moi\\anaconda3\\lib\\site-packages\\sklearn\\neural_network\\_multilayer_perceptron.py:582: ConvergenceWarning: Stochastic Optimizer: Maximum iterations (200) reached and the optimization hasn't converged yet.\n",
      "  warnings.warn(\n",
      "C:\\Users\\Moi\\anaconda3\\lib\\site-packages\\sklearn\\neural_network\\_multilayer_perceptron.py:582: ConvergenceWarning: Stochastic Optimizer: Maximum iterations (200) reached and the optimization hasn't converged yet.\n",
      "  warnings.warn(\n",
      "C:\\Users\\Moi\\anaconda3\\lib\\site-packages\\sklearn\\neural_network\\_multilayer_perceptron.py:582: ConvergenceWarning: Stochastic Optimizer: Maximum iterations (200) reached and the optimization hasn't converged yet.\n",
      "  warnings.warn(\n",
      "C:\\Users\\Moi\\anaconda3\\lib\\site-packages\\sklearn\\neural_network\\_multilayer_perceptron.py:582: ConvergenceWarning: Stochastic Optimizer: Maximum iterations (200) reached and the optimization hasn't converged yet.\n",
      "  warnings.warn(\n",
      "C:\\Users\\Moi\\anaconda3\\lib\\site-packages\\sklearn\\neural_network\\_multilayer_perceptron.py:582: ConvergenceWarning: Stochastic Optimizer: Maximum iterations (200) reached and the optimization hasn't converged yet.\n",
      "  warnings.warn(\n",
      "C:\\Users\\Moi\\anaconda3\\lib\\site-packages\\sklearn\\neural_network\\_multilayer_perceptron.py:582: ConvergenceWarning: Stochastic Optimizer: Maximum iterations (200) reached and the optimization hasn't converged yet.\n",
      "  warnings.warn(\n",
      "C:\\Users\\Moi\\anaconda3\\lib\\site-packages\\sklearn\\neural_network\\_multilayer_perceptron.py:582: ConvergenceWarning: Stochastic Optimizer: Maximum iterations (200) reached and the optimization hasn't converged yet.\n",
      "  warnings.warn(\n",
      "C:\\Users\\Moi\\anaconda3\\lib\\site-packages\\sklearn\\neural_network\\_multilayer_perceptron.py:582: ConvergenceWarning: Stochastic Optimizer: Maximum iterations (200) reached and the optimization hasn't converged yet.\n",
      "  warnings.warn(\n",
      "C:\\Users\\Moi\\anaconda3\\lib\\site-packages\\sklearn\\neural_network\\_multilayer_perceptron.py:582: ConvergenceWarning: Stochastic Optimizer: Maximum iterations (200) reached and the optimization hasn't converged yet.\n",
      "  warnings.warn(\n",
      "C:\\Users\\Moi\\anaconda3\\lib\\site-packages\\sklearn\\neural_network\\_multilayer_perceptron.py:582: ConvergenceWarning: Stochastic Optimizer: Maximum iterations (200) reached and the optimization hasn't converged yet.\n",
      "  warnings.warn(\n",
      "C:\\Users\\Moi\\anaconda3\\lib\\site-packages\\sklearn\\neural_network\\_multilayer_perceptron.py:582: ConvergenceWarning: Stochastic Optimizer: Maximum iterations (200) reached and the optimization hasn't converged yet.\n",
      "  warnings.warn(\n",
      "C:\\Users\\Moi\\anaconda3\\lib\\site-packages\\sklearn\\neural_network\\_multilayer_perceptron.py:582: ConvergenceWarning: Stochastic Optimizer: Maximum iterations (200) reached and the optimization hasn't converged yet.\n",
      "  warnings.warn(\n",
      "C:\\Users\\Moi\\anaconda3\\lib\\site-packages\\sklearn\\neural_network\\_multilayer_perceptron.py:582: ConvergenceWarning: Stochastic Optimizer: Maximum iterations (200) reached and the optimization hasn't converged yet.\n",
      "  warnings.warn(\n",
      "C:\\Users\\Moi\\anaconda3\\lib\\site-packages\\sklearn\\neural_network\\_multilayer_perceptron.py:582: ConvergenceWarning: Stochastic Optimizer: Maximum iterations (200) reached and the optimization hasn't converged yet.\n",
      "  warnings.warn(\n",
      "C:\\Users\\Moi\\anaconda3\\lib\\site-packages\\sklearn\\neural_network\\_multilayer_perceptron.py:582: ConvergenceWarning: Stochastic Optimizer: Maximum iterations (200) reached and the optimization hasn't converged yet.\n",
      "  warnings.warn(\n"
     ]
    },
    {
     "name": "stdout",
     "output_type": "stream",
     "text": [
      "MLPClassifier()\n",
      "accuracy test data :  0.4343220338983051\n",
      "GridSearchCV(cv=StratifiedKFold(n_splits=5, random_state=None, shuffle=False),\n",
      "             estimator=KNeighborsClassifier(n_neighbors=3),\n",
      "             param_grid={'n_neighbors': [1, 2, 3, 4, 5, 6, 7, 8, 9, 10, 11, 12,\n",
      "                                         13, 14, 15, 16, 17, 18, 19, 20, 21, 22,\n",
      "                                         23, 24, 25, 26, 27, 28, 29, 30],\n",
      "                         'weights': ['uniform', 'distance']},\n",
      "             scoring='accuracy')\n",
      "accuracy test data :  0.3898305084745763\n"
     ]
    }
   ],
   "source": [
    "for model in list_model :\n",
    "    # define ovo strategy\n",
    "    ovo = OneVsOneClassifier(model)\n",
    "    # fit model\n",
    "    ovo.fit(X_train, y_train)\n",
    "    y_pred = ovo.predict(X_test)\n",
    "    print(model)\n",
    "    print('accuracy test data : ',metrics.accuracy_score(y_test, y_pred))\n",
    "    "
   ]
  },
  {
   "cell_type": "markdown",
   "metadata": {},
   "source": [
    "##### Classifier 7 : OneVsOneClassifier "
   ]
  },
  {
   "cell_type": "code",
   "execution_count": 76,
   "metadata": {},
   "outputs": [
    {
     "name": "stdout",
     "output_type": "stream",
     "text": [
      "RandomForestClassifier()\n",
      "accuracy test data :  0.4067796610169492\n"
     ]
    },
    {
     "name": "stderr",
     "output_type": "stream",
     "text": [
      "C:\\Users\\Moi\\anaconda3\\lib\\site-packages\\sklearn\\neural_network\\_multilayer_perceptron.py:582: ConvergenceWarning: Stochastic Optimizer: Maximum iterations (200) reached and the optimization hasn't converged yet.\n",
      "  warnings.warn(\n",
      "C:\\Users\\Moi\\anaconda3\\lib\\site-packages\\sklearn\\neural_network\\_multilayer_perceptron.py:582: ConvergenceWarning: Stochastic Optimizer: Maximum iterations (200) reached and the optimization hasn't converged yet.\n",
      "  warnings.warn(\n",
      "C:\\Users\\Moi\\anaconda3\\lib\\site-packages\\sklearn\\neural_network\\_multilayer_perceptron.py:582: ConvergenceWarning: Stochastic Optimizer: Maximum iterations (200) reached and the optimization hasn't converged yet.\n",
      "  warnings.warn(\n",
      "C:\\Users\\Moi\\anaconda3\\lib\\site-packages\\sklearn\\neural_network\\_multilayer_perceptron.py:582: ConvergenceWarning: Stochastic Optimizer: Maximum iterations (200) reached and the optimization hasn't converged yet.\n",
      "  warnings.warn(\n",
      "C:\\Users\\Moi\\anaconda3\\lib\\site-packages\\sklearn\\neural_network\\_multilayer_perceptron.py:582: ConvergenceWarning: Stochastic Optimizer: Maximum iterations (200) reached and the optimization hasn't converged yet.\n",
      "  warnings.warn(\n",
      "C:\\Users\\Moi\\anaconda3\\lib\\site-packages\\sklearn\\neural_network\\_multilayer_perceptron.py:582: ConvergenceWarning: Stochastic Optimizer: Maximum iterations (200) reached and the optimization hasn't converged yet.\n",
      "  warnings.warn(\n",
      "C:\\Users\\Moi\\anaconda3\\lib\\site-packages\\sklearn\\neural_network\\_multilayer_perceptron.py:582: ConvergenceWarning: Stochastic Optimizer: Maximum iterations (200) reached and the optimization hasn't converged yet.\n",
      "  warnings.warn(\n"
     ]
    },
    {
     "name": "stdout",
     "output_type": "stream",
     "text": [
      "MLPClassifier()\n",
      "accuracy test data :  0.4194915254237288\n",
      "GridSearchCV(cv=StratifiedKFold(n_splits=5, random_state=None, shuffle=False),\n",
      "             estimator=KNeighborsClassifier(n_neighbors=3),\n",
      "             param_grid={'n_neighbors': [1, 2, 3, 4, 5, 6, 7, 8, 9, 10, 11, 12,\n",
      "                                         13, 14, 15, 16, 17, 18, 19, 20, 21, 22,\n",
      "                                         23, 24, 25, 26, 27, 28, 29, 30],\n",
      "                         'weights': ['uniform', 'distance']},\n",
      "             scoring='accuracy')\n",
      "accuracy test data :  0.3940677966101695\n"
     ]
    }
   ],
   "source": [
    "for model in list_model :\n",
    "    # define ovo strategy\n",
    "    ovr = OneVsRestClassifier(model)\n",
    "    # fit model\n",
    "    ovr.fit(X_train, y_train)\n",
    "    y_pred = ovr.predict(X_test)\n",
    "    print(model)\n",
    "    print('accuracy test data : ',metrics.accuracy_score(y_test, y_pred))"
   ]
  },
  {
   "cell_type": "markdown",
   "metadata": {},
   "source": [
    "###### Conclusion :"
   ]
  },
  {
   "cell_type": "markdown",
   "metadata": {},
   "source": [
    "For the Drug_consumption dataset we tried two solutions:<br>\n",
    "**-binary classfication **: <br>we consider that the classes \"Never Used\", \"Used over a Decade Ago\", \"Used in Last Decade\" as non user and the rest as drug consumer, we apply some models and apply cross validations to increase the performance of these models and in the end we found a score of 84%.<br>\n",
    "**-Multiclass classfication**: <br>We consider the 7 classes : <br>\n",
    "CL0 Never Used <br>\n",
    "CL1 Used over a Decade Ago <br>\n",
    "CL2 Used in Last Decade <br>\n",
    "CL3 Used in Last Year <br>\n",
    "CL4 Used in Last Month<br>\n",
    "CL5 Used in Last Week <br>\n",
    "CL6 Used in Last Day <br>\n",
    "We tried many models and techniques to increase the accuracy but the best score we got was 51%.<br>\n",
    "we could not get a score higher than 51% because the volume of our dataset is not big enough so that we have for some classes little volume which prevents to have enough performances.\n",
    "\n"
   ]
  }
 ],
 "metadata": {
  "kernelspec": {
   "display_name": "Python 3",
   "language": "python",
   "name": "python3"
  },
  "language_info": {
   "codemirror_mode": {
    "name": "ipython",
    "version": 3
   },
   "file_extension": ".py",
   "mimetype": "text/x-python",
   "name": "python",
   "nbconvert_exporter": "python",
   "pygments_lexer": "ipython3",
   "version": "3.8.3"
  }
 },
 "nbformat": 4,
 "nbformat_minor": 4
}
